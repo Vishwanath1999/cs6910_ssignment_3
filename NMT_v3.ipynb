{
  "cells": [
    {
      "cell_type": "code",
      "execution_count": 59,
      "metadata": {
        "colab": {
          "base_uri": "https://localhost:8080/"
        },
        "id": "1mf4DR9h7nAk",
        "outputId": "fcec2e09-7582-4db5-eb77-64d95afc8da0"
      },
      "outputs": [
        {
          "output_type": "stream",
          "name": "stdout",
          "text": [
            "Drive already mounted at /content/gdrive; to attempt to forcibly remount, call drive.mount(\"/content/gdrive\", force_remount=True).\n"
          ]
        }
      ],
      "source": [
        "import os\n",
        "import datetime\n",
        "from google.colab import drive\n",
        "drive.mount('/content/gdrive')\n",
        "\n",
        "os.chdir('/content/gdrive/My Drive/Deep Learning CS6910/rnn_test')"
      ]
    },
    {
      "cell_type": "code",
      "execution_count": 60,
      "metadata": {
        "id": "eY3QJIZ-8GO4"
      },
      "outputs": [],
      "source": [
        "# !pip install --upgrade wandb -qq"
      ]
    },
    {
      "cell_type": "code",
      "execution_count": 61,
      "metadata": {
        "id": "3b6vkwIP7wqv"
      },
      "outputs": [],
      "source": [
        "import torch \n",
        "import torch.nn as nn\n",
        "import torch.optim as optim\n",
        "import numpy as np\n",
        "import random\n",
        "import wandb\n",
        "import pandas as pd\n",
        "from torch.utils.data import Dataset, DataLoader\n",
        "import matplotlib.pyplot as plt\n",
        "import seaborn as sns\n",
        "from IPython.display import clear_output"
      ]
    },
    {
      "cell_type": "code",
      "execution_count": 62,
      "metadata": {
        "id": "TY1qCveHzh0z"
      },
      "outputs": [],
      "source": [
        "device_gpu = torch.device(\"cuda:0\" if torch.cuda.is_available() else \"cpu\")"
      ]
    },
    {
      "cell_type": "code",
      "execution_count": 63,
      "metadata": {
        "id": "1sRJZMIiIHtk"
      },
      "outputs": [],
      "source": [
        "path = './aksharantar_sampled/'\n",
        "dirs = os.listdir(path)\n",
        "# dirs"
      ]
    },
    {
      "cell_type": "code",
      "execution_count": 64,
      "metadata": {
        "colab": {
          "base_uri": "https://localhost:8080/"
        },
        "id": "AHN3W5a2kR6y",
        "outputId": "b908d460-0286-4cb4-9cb7-0dbfff757489"
      },
      "outputs": [
        {
          "output_type": "stream",
          "name": "stdout",
          "text": [
            "             0           1\n",
            "0  shastragaar  शस्त्रागार\n",
            "1      bindhya    बिन्द्या\n",
            "2    kirankant    किरणकांत\n",
            "3  yagyopaveet   यज्ञोपवीत\n",
            "4      ratania     रटानिया\n",
            "51200\n"
          ]
        },
        {
          "output_type": "execute_result",
          "data": {
            "text/plain": [
              "(2, 51200)"
            ]
          },
          "metadata": {},
          "execution_count": 64
        }
      ],
      "source": [
        "train_df = pd.read_csv(path+'hin'+'/'+'hin_train.csv', header=None)\n",
        "print(train_df.head())\n",
        "print(len(train_df))\n",
        "train_data = train_df.values.T\n",
        "train_data.shape"
      ]
    },
    {
      "cell_type": "code",
      "execution_count": 65,
      "metadata": {
        "colab": {
          "base_uri": "https://localhost:8080/"
        },
        "id": "W70eWfHhkUua",
        "outputId": "5f5475c0-0137-4c5d-f00d-adef3598a0e8"
      },
      "outputs": [
        {
          "output_type": "stream",
          "name": "stdout",
          "text": [
            "           0        1\n",
            "0   jaisawal   जयसवाल\n",
            "1      bajai     बजाई\n",
            "2  sanghthan    संघठन\n",
            "3    haiwaan    हैवान\n",
            "4    nilgiri  नीलगिरि\n",
            "4096\n"
          ]
        }
      ],
      "source": [
        "valid_df = pd.read_csv(path+'hin'+'/'+'hin_valid.csv', header=None)\n",
        "print(valid_df.head())\n",
        "print(len(valid_df))\n",
        "valid_data = valid_df.values"
      ]
    },
    {
      "cell_type": "code",
      "execution_count": 66,
      "metadata": {
        "colab": {
          "base_uri": "https://localhost:8080/"
        },
        "id": "uzbon6yRkhF8",
        "outputId": "39f49230-8be6-4d8a-c64b-e6c0e4daebfe"
      },
      "outputs": [
        {
          "output_type": "stream",
          "name": "stdout",
          "text": [
            "           0        1\n",
            "0   jaisawal   जयसवाल\n",
            "1      bajai     बजाई\n",
            "2  sanghthan    संघठन\n",
            "3    haiwaan    हैवान\n",
            "4    nilgiri  नीलगिरि\n",
            "4096\n"
          ]
        }
      ],
      "source": [
        "test_df = pd.read_csv(path+'hin'+'/'+'hin_valid.csv', header=None)\n",
        "print(test_df.head())\n",
        "print(len(test_df))\n",
        "test_data = test_df.values.T"
      ]
    },
    {
      "cell_type": "code",
      "execution_count": 67,
      "metadata": {
        "colab": {
          "base_uri": "https://localhost:8080/"
        },
        "id": "jC0r9wmhs1qW",
        "outputId": "437d3946-0d09-4b2a-ca8a-69d8f78e1a39"
      },
      "outputs": [
        {
          "output_type": "stream",
          "name": "stdout",
          "text": [
            "{'-PAD-': 0, 'a': 1, 'b': 2, 'c': 3, 'd': 4, 'e': 5, 'f': 6, 'g': 7, 'h': 8, 'i': 9, 'j': 10, 'k': 11, 'l': 12, 'm': 13, 'n': 14, 'o': 15, 'p': 16, 'q': 17, 'r': 18, 's': 19, 't': 20, 'u': 21, 'v': 22, 'w': 23, 'x': 24, 'y': 25, 'z': 26}\n"
          ]
        }
      ],
      "source": [
        "# storing all the alphabets of English and the pad char to a dictionary to create OHE representation later.\n",
        "eng_alphabets = 'abcdefghijklmnopqrstuvwxyz'\n",
        "pad_char = '-PAD-'\n",
        "\n",
        "eng_alpha2index = {pad_char: 0}\n",
        "for index, alpha in enumerate(eng_alphabets):\n",
        "    eng_alpha2index[alpha] = index+1\n",
        "\n",
        "print(eng_alpha2index)\n"
      ]
    },
    {
      "cell_type": "code",
      "execution_count": 68,
      "metadata": {
        "id": "NL0lCPrnqbnA"
      },
      "outputs": [],
      "source": [
        "tensor_dict = {key: torch.tensor(value).to(device_gpu) for key, value in eng_alpha2index.items()}"
      ]
    },
    {
      "cell_type": "code",
      "execution_count": 69,
      "metadata": {
        "colab": {
          "base_uri": "https://localhost:8080/"
        },
        "id": "PIVRm93RwynP",
        "outputId": "2a3bc1a8-0c7d-4cf6-d561-025e3ceae1e4"
      },
      "outputs": [
        {
          "output_type": "stream",
          "name": "stdout",
          "text": [
            "{'-PAD-': 0, 'ऀ': 1, 'ँ': 2, 'ं': 3, 'ः': 4, 'ऄ': 5, 'अ': 6, 'आ': 7, 'इ': 8, 'ई': 9, 'उ': 10, 'ऊ': 11, 'ऋ': 12, 'ऌ': 13, 'ऍ': 14, 'ऎ': 15, 'ए': 16, 'ऐ': 17, 'ऑ': 18, 'ऒ': 19, 'ओ': 20, 'औ': 21, 'क': 22, 'ख': 23, 'ग': 24, 'घ': 25, 'ङ': 26, 'च': 27, 'छ': 28, 'ज': 29, 'झ': 30, 'ञ': 31, 'ट': 32, 'ठ': 33, 'ड': 34, 'ढ': 35, 'ण': 36, 'त': 37, 'थ': 38, 'द': 39, 'ध': 40, 'न': 41, 'ऩ': 42, 'प': 43, 'फ': 44, 'ब': 45, 'भ': 46, 'म': 47, 'य': 48, 'र': 49, 'ऱ': 50, 'ल': 51, 'ळ': 52, 'ऴ': 53, 'व': 54, 'श': 55, 'ष': 56, 'स': 57, 'ह': 58, 'ऺ': 59, 'ऻ': 60, '़': 61, 'ऽ': 62, 'ा': 63, 'ि': 64, 'ी': 65, 'ु': 66, 'ू': 67, 'ृ': 68, 'ॄ': 69, 'ॅ': 70, 'ॆ': 71, 'े': 72, 'ै': 73, 'ॉ': 74, 'ॊ': 75, 'ो': 76, 'ौ': 77, '्': 78, 'ॎ': 79, 'ॏ': 80, 'ॐ': 81, '॑': 82, '॒': 83, '॓': 84, '॔': 85, 'ॕ': 86, 'ॖ': 87, 'ॗ': 88, 'क़': 89, 'ख़': 90, 'ग़': 91, 'ज़': 92, 'ड़': 93, 'ढ़': 94, 'फ़': 95, 'य़': 96, 'ॠ': 97, 'ॡ': 98, 'ॢ': 99, 'ॣ': 100, '।': 101, '॥': 102, '०': 103, '१': 104, '२': 105, '३': 106, '४': 107, '५': 108, '६': 109, '७': 110, '८': 111, '९': 112, '॰': 113, 'ॱ': 114, 'ॲ': 115, 'ॳ': 116, 'ॴ': 117, 'ॵ': 118, 'ॶ': 119, 'ॷ': 120, 'ॸ': 121, 'ॹ': 122, 'ॺ': 123, 'ॻ': 124, 'ॼ': 125, 'ॽ': 126, 'ॾ': 127, 'ॿ': 128}\n"
          ]
        }
      ],
      "source": [
        "hindi_alphabets = [chr(alpha) for alpha in range(2304, 2432)]\n",
        "hindi_alphabet_size = len(hindi_alphabets)\n",
        "\n",
        "hindi_alpha2index = {pad_char: 0}\n",
        "for index, alpha in enumerate(hindi_alphabets):\n",
        "    hindi_alpha2index[alpha] = index+1\n",
        "\n",
        "print(hindi_alpha2index)"
      ]
    },
    {
      "cell_type": "code",
      "execution_count": 70,
      "metadata": {
        "id": "YBJETJuYyOZA"
      },
      "outputs": [],
      "source": [
        "import re\n",
        "non_eng_letters_regex = re.compile('[^a-zA-Z ]')\n",
        "\n",
        "# Remove all English non-letters\n",
        "def cleanEnglishVocab(line):\n",
        "    line = line.replace('-', ' ').replace(',', ' ').upper()\n",
        "    line = non_eng_letters_regex.sub('', line)\n",
        "    return line.split()\n",
        "\n",
        "# Remove all Hindi non-letters\n",
        "def cleanHindiVocab(line):\n",
        "    line = line.replace('-', ' ').replace(',', ' ')\n",
        "    cleaned_line = ''\n",
        "    for char in line:\n",
        "        if char in hindi_alpha2index or char == ' ':\n",
        "            cleaned_line += char\n",
        "    return cleaned_line.split()"
      ]
    },
    {
      "cell_type": "code",
      "execution_count": 71,
      "metadata": {
        "id": "xI3O0ZN-xhXv"
      },
      "outputs": [],
      "source": [
        "\n",
        "class TransliterationDataLoader(Dataset):\n",
        "    def __init__(self, eng_words, hindi_words):\n",
        "        self.eng_words = eng_words\n",
        "        self.hindi_words = hindi_words\n",
        "        self.shuffle_indices = list(range(len(self.eng_words)))\n",
        "        random.shuffle(self.shuffle_indices)\n",
        "        self.shuffle_start_index = 0\n",
        "        \n",
        "    def __len__(self):\n",
        "        return len(self.eng_words)\n",
        "    \n",
        "    def __getitem__(self, idx):\n",
        "        return self.eng_words[idx], self.hindi_words[idx]\n",
        "    \n",
        "    def get_random_sample(self):\n",
        "        return self.__getitem__(np.random.randint(len(self.eng_words)))\n",
        "    \n",
        "    def get_batch_from_array(self, batch_size, array):\n",
        "        end = self.shuffle_start_index + batch_size\n",
        "        batch = []\n",
        "        if end >= len(self.eng_words):\n",
        "            batch = [array[i] for i in self.shuffle_indices[0:end % len(self.eng_words)]]\n",
        "            end = len(self.eng_words)\n",
        "        return batch + [array[i] for i in self.shuffle_indices[self.shuffle_start_index : end]]\n",
        "    \n",
        "    def get_batch(self, batch_size, postprocess=True):\n",
        "        eng_batch = self.get_batch_from_array(batch_size, self.eng_words)\n",
        "        hindi_batch = self.get_batch_from_array(batch_size, self.hindi_words)\n",
        "        self.shuffle_start_index += batch_size + 1\n",
        "        \n",
        "        if self.shuffle_start_index >= len(self.eng_words):\n",
        "            random.shuffle(self.shuffle_indices)\n",
        "            self.shuffle_start_index = 0\n",
        "            \n",
        "        return eng_batch, hindi_batch\n"
      ]
    },
    {
      "cell_type": "code",
      "execution_count": 72,
      "metadata": {
        "id": "dyG6niZQxm3h"
      },
      "outputs": [],
      "source": [
        "train_data = TransliterationDataLoader(train_data[0],train_data[1])"
      ]
    },
    {
      "cell_type": "code",
      "execution_count": null,
      "metadata": {
        "colab": {
          "base_uri": "https://localhost:8080/"
        },
        "id": "UPunR2y1x_G3",
        "outputId": "57f4511a-8078-4d69-f846-34b9fd558819"
      },
      "outputs": [
        {
          "name": "stdout",
          "output_type": "stream",
          "text": [
            "grampanchayatimadhun - ग्रामपंचायतीमधून\n",
            "kesharpur - केशरपुर\n",
            "srinagarchya - श्रीनगरच्या\n",
            "nipponese - निप्पोनीज़\n",
            "gavavaril - गावावरील\n",
            "imarna - इमरना\n",
            "manasgangotri - मानसगंगोत्री\n",
            "vinaypatrik - विनयपत्रिक\n",
            "kahuara - कहुआरा\n",
            "thakuri - ठाकुरी\n"
          ]
        }
      ],
      "source": [
        "for i in range(10):\n",
        "  eng, hindi = train_data.get_random_sample()\n",
        "  print(eng + ' - ' + hindi)"
      ]
    },
    {
      "cell_type": "code",
      "execution_count": 73,
      "metadata": {
        "id": "1BSmSdt6yP6E"
      },
      "outputs": [],
      "source": [
        "def word_rep(word, letter2index, device = 'cpu'):\n",
        "    rep = torch.zeros(len(word)+1, 1, len(letter2index)).to(device)\n",
        "    for letter_index, letter in enumerate(word):\n",
        "        pos = letter2index[letter]\n",
        "        rep[letter_index][0][pos] = 1\n",
        "    pad_pos = letter2index[pad_char]\n",
        "    rep[letter_index+1][0][pad_pos] = 1\n",
        "    return rep\n",
        "\n",
        "def gt_rep(word, letter2index, device = 'cpu'):\n",
        "    gt_rep = torch.zeros([len(word)+1, 1], dtype=torch.long).to(device)\n",
        "    for letter_index, letter in enumerate(word):\n",
        "        pos = letter2index[letter]\n",
        "        gt_rep[letter_index][0] = pos\n",
        "    gt_rep[letter_index+1][0] = letter2index[pad_char]\n",
        "    return gt_rep"
      ]
    },
    {
      "cell_type": "code",
      "execution_count": null,
      "metadata": {
        "id": "LaDt2flSyXEg"
      },
      "outputs": [],
      "source": [
        "eng, hindi = train_data.get_random_sample()\n",
        "eng_rep = word_rep(eng, eng_alpha2index)\n",
        "# print(eng, eng_rep)"
      ]
    },
    {
      "cell_type": "code",
      "execution_count": null,
      "metadata": {
        "colab": {
          "base_uri": "https://localhost:8080/"
        },
        "id": "rL9AMCgNyr-R",
        "outputId": "83992e2c-29b8-4fca-e0f5-5c201c1d9015"
      },
      "outputs": [
        {
          "output_type": "stream",
          "name": "stdout",
          "text": [
            "कूतरने 7\n"
          ]
        }
      ],
      "source": [
        "hindi_gt = gt_rep(hindi, hindi_alpha2index)\n",
        "print(hindi, hindi_gt.shape[0])"
      ]
    },
    {
      "cell_type": "code",
      "execution_count": 74,
      "metadata": {
        "id": "HA6-hBaB2xfr"
      },
      "outputs": [],
      "source": [
        "MAX_OUTPUT_CHARS = 30\n",
        "\n",
        "class Transliteration_EncoderDecoder_BeamSearch(nn.Module):\n",
        "  def __init__(self, input_size, hidden_size, output_size, type_ = 'gru', bidirectional=False, beam_width=5,embedding_size=128, num_layers=1, verbose=False):\n",
        "    super(Transliteration_EncoderDecoder_BeamSearch, self).__init__()\n",
        "    \n",
        "    self.hidden_size = hidden_size\n",
        "    self.output_size = output_size\n",
        "    self.beam_width = beam_width\n",
        "    self.type_ = type_\n",
        "\n",
        "\n",
        "    self.embedding = nn.Embedding(input_size, embedding_size)\n",
        "    \n",
        "    if type_ == 'gru':\n",
        "      self.encoder_rnn_cell = nn.GRU(input_size=embedding_size, hidden_size=hidden_size, num_layers=num_layers,bidirectional=bidirectional)\n",
        "      self.decoder_rnn_cell = nn.GRU(input_size=output_size, hidden_size=hidden_size,num_layers=num_layers,bidirectional=bidirectional)\n",
        "    \n",
        "    elif type_ == 'rnn':\n",
        "      self.encoder_rnn_cell = nn.RNN(input_size=embedding_size, hidden_size=hidden_size, num_layers=num_layers,bidirectional=bidirectional)\n",
        "      self.decoder_rnn_cell = nn.RNN(input_size=output_size, hidden_size=hidden_size,num_layers=num_layers,bidirectional=bidirectional)\n",
        "    \n",
        "    elif type_ == 'lstm':\n",
        "      self.encoder_rnn_cell = nn.LSTM(input_size=embedding_size, hidden_size=hidden_size, num_layers=num_layers,bidirectional=bidirectional)\n",
        "      self.decoder_rnn_cell = nn.LSTM(input_size=output_size, hidden_size=hidden_size,num_layers=num_layers,bidirectional=bidirectional)\n",
        "    \n",
        "    self.h2o = nn.Linear(hidden_size, output_size)\n",
        "    self.softmax = nn.LogSoftmax(dim=2)\n",
        "    \n",
        "    self.verbose = verbose\n",
        "  \n",
        "  def forward(self, input, max_output_chars=MAX_OUTPUT_CHARS, device='cpu', ground_truth=None):\n",
        "    # encoder\n",
        "    # Convert input tensor to LongTensor\n",
        "    input = input.long()\n",
        "\n",
        "    # Embedding\n",
        "    embedded_input = self.embedding(input)\n",
        "    embedded_input = embedded_input.view((embedded_input.shape[0]*embedded_input.shape[2],1,embedded_input.shape[3]))\n",
        "    if self.type_ == 'lstm':\n",
        "      out, (hidden,_) = self.encoder_rnn_cell(embedded_input)\n",
        "    else:  \n",
        "      out, hidden = self.encoder_rnn_cell(embedded_input)\n",
        "    \n",
        "    if self.verbose:\n",
        "      print('Encoder input', input.shape)\n",
        "      print('Encoder output', out.shape)\n",
        "      print('Encoder hidden', hidden.shape)\n",
        "    \n",
        "    # decoder\n",
        "    decoder_state = hidden\n",
        "    decoder_input = torch.zeros(1, 1, self.output_size).to(device)\n",
        "    decoder_state_ = torch.zeros_like(decoder_state).to(device)\n",
        "    outputs = []\n",
        "    \n",
        "    if self.verbose:\n",
        "      print('Decoder state', decoder_state.shape)\n",
        "      print('Decoder input', decoder_input.shape)\n",
        "    \n",
        "    for i in range(max_output_chars):\n",
        "      if self.type_ == 'lstm':\n",
        "        out, (decoder_state,_) = self.decoder_rnn_cell(decoder_input, (decoder_state,decoder_state_))\n",
        "      else:\n",
        "        out,decoder_state = self.decoder_rnn_cell(decoder_input,decoder_state)\n",
        "      \n",
        "      if self.verbose:\n",
        "        print('Decoder intermediate output', out.shape)\n",
        "      \n",
        "      out = self.h2o(decoder_state)\n",
        "      out = self.softmax(out)\n",
        "      outputs.append(out.view(1, -1))\n",
        "      \n",
        "      if self.verbose:\n",
        "          print('Decoder output', out.shape)\n",
        "          self.verbose = False\n",
        "      \n",
        "      if ground_truth is not None:\n",
        "          max_idx = ground_truth[i].reshape(1, 1, 1)\n",
        "      else:\n",
        "          topk_probs, topk_indices = out.topk(self.beam_width, dim=2)\n",
        "          topk_probs = topk_probs.view(1, -1)\n",
        "          topk_indices = topk_indices.view(1, -1)\n",
        "          # Exclude invalid probabilities\n",
        "          topk_probs[torch.isnan(topk_probs)] = 0\n",
        "          topk_probs[torch.isinf(topk_probs)] = 0\n",
        "          # Normalize probabilities\n",
        "          topk_probs /= topk_probs.sum()\n",
        "          # Perform multinomial sampling\n",
        "          selected_indices = torch.multinomial(topk_probs, 1)\n",
        "          max_idx = topk_indices[0][selected_indices[0]].reshape(1, 1, 1)\n",
        "      \n",
        "      one_hot = torch.FloatTensor(out.shape).to(device)\n",
        "      one_hot.zero_()\n",
        "      one_hot.scatter_(2, max_idx, 1)\n",
        "      \n",
        "      decoder_input = one_hot.detach()\n",
        "    \n",
        "    return outputs\n"
      ]
    },
    {
      "cell_type": "code",
      "execution_count": null,
      "metadata": {
        "id": "mjm_moVOzEDi"
      },
      "outputs": [],
      "source": [
        "def infer(net, eng_word,shape,device ='cpu'):\n",
        "  # net.eval()\n",
        "  net.to(device)\n",
        "  input_ = word_rep(eng_word,tensor_dict,device) # convert the name into one hot encoding.\n",
        "  outputs = net(input_,shape,device) # initilise the hidden layer.\n",
        "  \n",
        "  return outputs"
      ]
    },
    {
      "cell_type": "code",
      "execution_count": null,
      "metadata": {
        "id": "bDY_-pdozIXs"
      },
      "outputs": [],
      "source": [
        "net = Transliteration_EncoderDecoder_BeamSearch(len(eng_alpha2index), 256, len(hindi_alpha2index), verbose=True,bidirectional=True, num_layers=2)"
      ]
    },
    {
      "cell_type": "code",
      "execution_count": null,
      "metadata": {
        "colab": {
          "base_uri": "https://localhost:8080/"
        },
        "id": "KY_BYMuhzK7a",
        "outputId": "382e7eae-ffac-4097-d9fe-04c4adde74b0"
      },
      "outputs": [
        {
          "name": "stdout",
          "output_type": "stream",
          "text": [
            "Encoder input torch.Size([6, 1, 27])\n",
            "Encoder output torch.Size([162, 1, 512])\n",
            "Encoder hidden torch.Size([4, 1, 256])\n",
            "Decoder state torch.Size([4, 1, 256])\n",
            "Decoder input torch.Size([1, 1, 129])\n",
            "Decoder intermediate output torch.Size([1, 1, 512])\n",
            "Decoder output torch.Size([4, 1, 129])\n"
          ]
        }
      ],
      "source": [
        "out = infer(net, 'india', 30, device_gpu)\n",
        "# type(out)"
      ]
    },
    {
      "cell_type": "code",
      "execution_count": 77,
      "metadata": {
        "id": "TsdNM3C7z84U"
      },
      "outputs": [],
      "source": [
        "def train_batch(net, opt, criterion, batch_size, device = 'cpu', teacher_force = False):\n",
        "    \n",
        "  net.train().to(device)\n",
        "  opt.zero_grad()\n",
        "  eng_batch, hindi_batch = train_data.get_batch(batch_size)\n",
        "  \n",
        "  total_loss = 0\n",
        "  accuracy = 0\n",
        "  for i in range(batch_size):\n",
        "      \n",
        "    input = word_rep(eng_batch[i], eng_alpha2index, device)\n",
        "    gt = gt_rep(hindi_batch[i], hindi_alpha2index, device)\n",
        "    outputs = net(input, gt.shape[0], device, ground_truth = gt if teacher_force else None)\n",
        "    \n",
        "    correct = 0\n",
        "    for index, output in enumerate(outputs):\n",
        "      loss = criterion(output, gt[index]) / batch_size\n",
        "      loss.backward(retain_graph = True)\n",
        "      total_loss += loss\n",
        "\n",
        "      val, indices = output.topk(1)\n",
        "      hindi_pos = indices.tolist()[0]\n",
        "      if hindi_pos[0] == gt[index][0]:\n",
        "        correct += 1\n",
        "    accuracy += correct/gt.shape[0]\n",
        "  accuracy /= batch_size\n",
        "  opt.step()\n",
        "\n",
        "\n",
        "  return total_loss.cpu().detach().numpy()/batch_size,accuracy"
      ]
    },
    {
      "cell_type": "code",
      "execution_count": 81,
      "metadata": {
        "id": "BjcWKW740cmI"
      },
      "outputs": [],
      "source": [
        "def train_setup(net, lr = 0.01, n_batches = 100, batch_size = 10, momentum = 0.9, display_freq=5, device = 'cpu',name='model'):\n",
        "\n",
        "  log = {}\n",
        "    \n",
        "  net = net.to(device)\n",
        "  criterion = nn.NLLLoss(ignore_index = -1)\n",
        "  opt = optim.Adam(net.parameters(), lr=lr)\n",
        "  teacher_force_upto = n_batches//3\n",
        "  \n",
        "  # loss_arr = np.zeros(n_batches + 1)\n",
        "  \n",
        "  for i in range(n_batches):\n",
        "    loss,accuracy = train_batch(net, opt, criterion, batch_size, device = device, teacher_force = i<teacher_force_upto )\n",
        "\n",
        "    log['loss'] = loss\n",
        "    log['acc'] = accuracy\n",
        "    print(log)\n",
        "    \n",
        "    # if i%display_freq == display_freq-1:\n",
        "    #     clear_output(wait=True)\n",
        "        \n",
        "        # print('Iteration', i, 'Loss', loss,'accuracy:',accuracy)\n",
        "        # plt.figure()\n",
        "        # plt.plot(loss, '-*')\n",
        "        # plt.xlabel('Iteration')\n",
        "        # plt.ylabel('Loss')\n",
        "        # plt.show()\n",
        "        # print('\\n\\n')\n",
        "\n",
        "    # val_acc = calc_accuracy(net,valid_data) \n",
        "    # log['val_acc'] = val_acc\n",
        "    # wandb.log(log)\n",
        "    # print('val_acc',val_acc)    \n",
        "  torch.save(net, name+'.pt')\n",
        "  # return loss"
      ]
    },
    {
      "cell_type": "code",
      "execution_count": 79,
      "metadata": {
        "id": "FmNQw-G-0jKl"
      },
      "outputs": [],
      "source": [
        "net = Transliteration_EncoderDecoder_BeamSearch(len(eng_alpha2index), 256, len(hindi_alpha2index))"
      ]
    },
    {
      "cell_type": "code",
      "execution_count": null,
      "metadata": {
        "id": "UKjEw0uO0mgZ"
      },
      "outputs": [],
      "source": [
        "train_setup(net, lr=0.001, n_batches=2000, batch_size = 64, display_freq=5, device = device_gpu,name='best_model')"
      ]
    },
    {
      "cell_type": "code",
      "source": [
        "torch.save(net, 'best_model.pt')"
      ],
      "metadata": {
        "id": "0eCL0oZ_bGPq"
      },
      "execution_count": 84,
      "outputs": []
    },
    {
      "cell_type": "code",
      "execution_count": 85,
      "metadata": {
        "id": "5QQ4x4dW0wvw"
      },
      "outputs": [],
      "source": [
        "def test(net, word, device = 'cpu'):\n",
        "  net = net.eval().to(device)\n",
        "  outputs = infer(net, word, 30, device)\n",
        "  hindi_output = ''\n",
        "  for out in outputs:\n",
        "      val, indices = out.topk(1)\n",
        "      index = indices.tolist()[0][0]\n",
        "      if index == 0:\n",
        "          break\n",
        "      hindi_char = hindi_alphabets[index+1]\n",
        "      hindi_output += hindi_char\n",
        "  # print(word + ' - ' + hindi_output)\n",
        "  return hindi_output"
      ]
    },
    {
      "cell_type": "code",
      "source": [
        "net = Transliteration_EncoderDecoder_BeamSearch(len(eng_alpha2index), 16, len(hindi_alpha2index))"
      ],
      "metadata": {
        "id": "FbL_2LPqAKgw"
      },
      "execution_count": null,
      "outputs": []
    },
    {
      "cell_type": "code",
      "source": [
        "net =torch.load('best.pt')"
      ],
      "metadata": {
        "id": "-5u_TKjhA1Y_"
      },
      "execution_count": null,
      "outputs": []
    },
    {
      "cell_type": "code",
      "source": [
        "pred=np.array([])\n",
        "for i in range(4096):\n",
        "  pred =np.append(pred,test(net,test_data[0][i]))"
      ],
      "metadata": {
        "id": "vuG5VefP_x0M"
      },
      "execution_count": 86,
      "outputs": []
    },
    {
      "cell_type": "code",
      "source": [
        "import csv\n",
        "\n",
        "def write_predictions_to_csv(predictions, actual_values, filename):\n",
        "    # Prepare data as a list of dictionaries\n",
        "    data = [{'predicted': pred, 'actual': actual} for pred, actual in zip(predictions, actual_values)]\n",
        "\n",
        "    # Write data to CSV file\n",
        "    with open(filename, 'w', newline='') as file:\n",
        "        fieldnames = ['predicted', 'actual']\n",
        "        writer = csv.DictWriter(file, fieldnames=fieldnames)\n",
        "        writer.writeheader()\n",
        "        writer.writerows(data)"
      ],
      "metadata": {
        "id": "Wu52LalbOo7N"
      },
      "execution_count": 88,
      "outputs": []
    },
    {
      "cell_type": "code",
      "source": [
        "write_predictions_to_csv(pred,test_data[1],'predictions_vanilla.csv')"
      ],
      "metadata": {
        "id": "gaXgSQhncp0v"
      },
      "execution_count": 89,
      "outputs": []
    },
    {
      "cell_type": "code",
      "execution_count": null,
      "metadata": {
        "id": "wB_FF2VdOBGv"
      },
      "outputs": [],
      "source": [
        "def calc_accuracy(net,Data, device = 'cpu'):\n",
        "  net = net.eval()#.to('cpu')\n",
        "  predictions = []\n",
        "  accuracy = 0\n",
        "  for i in range(len(Data)):\n",
        "    data = Data[i]\n",
        "    eng, hindi = data[0],data[1]\n",
        "    gt = gt_rep(hindi, hindi_alpha2index, device_gpu)\n",
        "    outputs = infer(net, eng, gt.shape[0], device_gpu)\n",
        "    correct = 0\n",
        "    for index, out in enumerate(outputs):\n",
        "      val, indices = out.topk(1)\n",
        "      hindi_pos = indices.tolist()[0]\n",
        "      if hindi_pos[0] == gt[index][0]:\n",
        "        correct += 1      \n",
        "    accuracy += correct/gt.shape[0]\n",
        "  accuracy /= len(Data)\n",
        "  # print(accuracy)\n",
        "  return accuracy"
      ]
    },
    {
      "cell_type": "code",
      "execution_count": null,
      "metadata": {
        "colab": {
          "base_uri": "https://localhost:8080/"
        },
        "id": "YjlgAhxEVfBZ",
        "outputId": "ae3693e9-8c4e-4160-d608-8fdcc68b365f"
      },
      "outputs": [
        {
          "data": {
            "text/plain": [
              "0.0"
            ]
          },
          "execution_count": 81,
          "metadata": {},
          "output_type": "execute_result"
        }
      ],
      "source": [
        "calc_accuracy(net,valid_data)"
      ]
    },
    {
      "cell_type": "code",
      "execution_count": null,
      "metadata": {
        "id": "WQoD9yiL8sxi"
      },
      "outputs": [],
      "source": [
        "sweep_config = {\n",
        "    'method': 'bayes', \n",
        "    'metric': {\n",
        "      'name': 'val_acc',\n",
        "      'goal': 'maximize'   \n",
        "    },\n",
        "    'parameters':{\n",
        "        'embedding_size':{\n",
        "            'values':[16,32,64,128,256]\n",
        "        },\n",
        "        'n_layers':{\n",
        "            'values':[1,2,3]\n",
        "        },\n",
        "        'hidden_size':{\n",
        "            'values':[16, 32, 64, 256],\n",
        "        },\n",
        "        'cell_type':{\n",
        "            'values':['rnn','lstm','gru']\n",
        "        },\n",
        "        'bidirectional':{\n",
        "            'values':[True,False]\n",
        "        },\n",
        "        'dropout':{\n",
        "            'values':[0.2,0.3]\n",
        "        },\n",
        "        'beam_width':{\n",
        "            'values':[3,4,5]\n",
        "        }\n",
        "    }\n",
        "    }"
      ]
    },
    {
      "cell_type": "code",
      "execution_count": null,
      "metadata": {
        "colab": {
          "base_uri": "https://localhost:8080/",
          "height": 138
        },
        "id": "V_wUqClmPG_X",
        "outputId": "f88c3252-5276-46c0-c049-73e33a5b187a"
      },
      "outputs": [
        {
          "data": {
            "application/javascript": [
              "\n",
              "        window._wandbApiKey = new Promise((resolve, reject) => {\n",
              "            function loadScript(url) {\n",
              "            return new Promise(function(resolve, reject) {\n",
              "                let newScript = document.createElement(\"script\");\n",
              "                newScript.onerror = reject;\n",
              "                newScript.onload = resolve;\n",
              "                document.body.appendChild(newScript);\n",
              "                newScript.src = url;\n",
              "            });\n",
              "            }\n",
              "            loadScript(\"https://cdn.jsdelivr.net/npm/postmate/build/postmate.min.js\").then(() => {\n",
              "            const iframe = document.createElement('iframe')\n",
              "            iframe.style.cssText = \"width:0;height:0;border:none\"\n",
              "            document.body.appendChild(iframe)\n",
              "            const handshake = new Postmate({\n",
              "                container: iframe,\n",
              "                url: 'https://wandb.ai/authorize'\n",
              "            });\n",
              "            const timeout = setTimeout(() => reject(\"Couldn't auto authenticate\"), 5000)\n",
              "            handshake.then(function(child) {\n",
              "                child.on('authorize', data => {\n",
              "                    clearTimeout(timeout)\n",
              "                    resolve(data)\n",
              "                });\n",
              "            });\n",
              "            })\n",
              "        });\n",
              "    "
            ],
            "text/plain": [
              "<IPython.core.display.Javascript object>"
            ]
          },
          "metadata": {},
          "output_type": "display_data"
        },
        {
          "name": "stderr",
          "output_type": "stream",
          "text": [
            "\u001b[34m\u001b[1mwandb\u001b[0m: Logging into wandb.ai. (Learn how to deploy a W&B server locally: https://wandb.me/wandb-server)\n",
            "\u001b[34m\u001b[1mwandb\u001b[0m: You can find your API key in your browser here: https://wandb.ai/authorize\n",
            "wandb: Paste an API key from your profile and hit enter, or press ctrl+c to quit:"
          ]
        },
        {
          "name": "stdout",
          "output_type": "stream",
          "text": [
            " ··········\n"
          ]
        },
        {
          "name": "stderr",
          "output_type": "stream",
          "text": [
            "\u001b[34m\u001b[1mwandb\u001b[0m: Appending key for api.wandb.ai to your netrc file: /root/.netrc\n"
          ]
        },
        {
          "name": "stdout",
          "output_type": "stream",
          "text": [
            "Create sweep with ID: hqtp9ouh\n",
            "Sweep URL: https://wandb.ai/viswa_ee/CS6910_NLG/sweeps/hqtp9ouh\n"
          ]
        }
      ],
      "source": [
        "sweep_id = wandb.sweep(sweep_config, entity='viswa_ee', project=\"CS6910_NLG\")"
      ]
    },
    {
      "cell_type": "code",
      "execution_count": null,
      "metadata": {
        "id": "8O6QmBVyJJEQ"
      },
      "outputs": [],
      "source": [
        "def train():\n",
        "  config_defaults={\n",
        "      'embedding_size':16,\n",
        "      'n_layers':1,\n",
        "      'hidden_size':16,\n",
        "      'cell_type':'gru',\n",
        "      'bidirectional':False,\n",
        "      'dropout':0.2,\n",
        "      'beam_width':2\n",
        "  }\n",
        "  wandb.init(config=config_defaults)\n",
        "  config = wandb.config\n",
        "  net = Transliteration_EncoderDecoder_BeamSearch(input_size=len(eng_alpha2index), hidden_size=256, output_size=len(hindi_alpha2index),type_=config.cell_type,bidirectional=config.bidirectional,\n",
        "                                                  beam_width=config.beam_width,embedding_size=config.embedding_size,num_layers=config.n_layers)\n",
        "  \n",
        "  train_setup(net, lr=0.001, n_batches=50, batch_size = 64, display_freq=5, device = device_gpu,name=wandb.run.name)"
      ]
    },
    {
      "cell_type": "code",
      "execution_count": null,
      "metadata": {
        "colab": {
          "background_save": true,
          "base_uri": "https://localhost:8080/",
          "height": 1000,
          "referenced_widgets": [
            "1ed5dba1a2704dbbae463706990b640e",
            "710378f5ef3f4770a03e0dbbd3f90676",
            "6d0c980ca03d4c7385bed6a156debf45",
            "4094509b73084576854a4b809c639fd0",
            "fae2c3f749b9405494ebe84e8dbbe242",
            "382ac8f0464c4428a4affe15079d28a0",
            "66e0781e5984439aa37c99136b9cf28e",
            "50d5f84ff12d4b05b84ee6fe490d559e",
            "1a399ecdcf004197b2041d6cc28647a1",
            "de2d65e993e0452e843ee4707e2151b6",
            "ee2dfe6843b84150bfc54fcd265fe1b2",
            "fe8bbb71d60b4ed1aed47e420c0a48bc",
            "14644406cef340a99b0e41df528ab956",
            "93e012c4d5594206bee637d9a90d399a",
            "21b462714cfe4f9eb02e9f9be4c21b24",
            "15dff7d9c9544407ae287ce66fd375cd",
            "55994c96db384dc392b0232c4f167a76",
            "c6f425a42f5c4f73811808d03190375b",
            "4a64ee1af9b54339b7d6a7927148fcf0",
            "6c6bebaac1414364a397ecf6fd210174",
            "2566bd37ff7c4eb4afe246591efe7ddb",
            "8fb94a20c7aa4d20b53a28e67102dbb2",
            "3cfa9ea9047d4402a9c5b359a58a53f4",
            "1d18bf42ff08474a8075c1c4e48442d4",
            "2d86072be98045fba88897fc06a6d7be",
            "4ea4299b40ab4f42afa643b84394e359",
            "c076878e9972409ca8640e682f76802c",
            "c0c791c474f341a6a76bc7c6682b22be",
            "ff631547870c487b8afe0322a04f9143",
            "fb220c7abb4a4ceab8463b04e96c42e6",
            "ed22dd23b5224378a248c5f089df0bda",
            "9712ce9174494aa19af352353ed3c5b7"
          ]
        },
        "id": "8HUdqQxfPDyX",
        "outputId": "e3b52363-85e0-4fac-bbc5-4398b68c3de2"
      },
      "outputs": [
        {
          "name": "stderr",
          "output_type": "stream",
          "text": [
            "\u001b[34m\u001b[1mwandb\u001b[0m: Agent Starting Run: nfv7gpcc with config:\n",
            "\u001b[34m\u001b[1mwandb\u001b[0m: \tbeam_width: 4\n",
            "\u001b[34m\u001b[1mwandb\u001b[0m: \tbidirectional: False\n",
            "\u001b[34m\u001b[1mwandb\u001b[0m: \tcell_type: gru\n",
            "\u001b[34m\u001b[1mwandb\u001b[0m: \tdropout: 0.2\n",
            "\u001b[34m\u001b[1mwandb\u001b[0m: \tembedding_size: 16\n",
            "\u001b[34m\u001b[1mwandb\u001b[0m: \thidden_size: 32\n",
            "\u001b[34m\u001b[1mwandb\u001b[0m: \tn_layers: 3\n",
            "\u001b[34m\u001b[1mwandb\u001b[0m: Currently logged in as: \u001b[33mviswa_ee\u001b[0m. Use \u001b[1m`wandb login --relogin`\u001b[0m to force relogin\n"
          ]
        },
        {
          "data": {
            "text/html": [
              "Tracking run with wandb version 0.15.3"
            ],
            "text/plain": [
              "<IPython.core.display.HTML object>"
            ]
          },
          "metadata": {},
          "output_type": "display_data"
        },
        {
          "data": {
            "text/html": [
              "Run data is saved locally in <code>/content/gdrive/MyDrive/Deep Learning CS6910/rnn_test/wandb/run-20230521_074037-nfv7gpcc</code>"
            ],
            "text/plain": [
              "<IPython.core.display.HTML object>"
            ]
          },
          "metadata": {},
          "output_type": "display_data"
        },
        {
          "data": {
            "text/html": [
              "Syncing run <strong><a href='https://wandb.ai/viswa_ee/CS6910_NLG/runs/nfv7gpcc' target=\"_blank\">astral-sweep-1</a></strong> to <a href='https://wandb.ai/viswa_ee/CS6910_NLG' target=\"_blank\">Weights & Biases</a> (<a href='https://wandb.me/run' target=\"_blank\">docs</a>)<br/>Sweep page: <a href='https://wandb.ai/viswa_ee/CS6910_NLG/sweeps/hqtp9ouh' target=\"_blank\">https://wandb.ai/viswa_ee/CS6910_NLG/sweeps/hqtp9ouh</a>"
            ],
            "text/plain": [
              "<IPython.core.display.HTML object>"
            ]
          },
          "metadata": {},
          "output_type": "display_data"
        },
        {
          "data": {
            "text/html": [
              " View project at <a href='https://wandb.ai/viswa_ee/CS6910_NLG' target=\"_blank\">https://wandb.ai/viswa_ee/CS6910_NLG</a>"
            ],
            "text/plain": [
              "<IPython.core.display.HTML object>"
            ]
          },
          "metadata": {},
          "output_type": "display_data"
        },
        {
          "data": {
            "text/html": [
              " View sweep at <a href='https://wandb.ai/viswa_ee/CS6910_NLG/sweeps/hqtp9ouh' target=\"_blank\">https://wandb.ai/viswa_ee/CS6910_NLG/sweeps/hqtp9ouh</a>"
            ],
            "text/plain": [
              "<IPython.core.display.HTML object>"
            ]
          },
          "metadata": {},
          "output_type": "display_data"
        },
        {
          "data": {
            "text/html": [
              " View run at <a href='https://wandb.ai/viswa_ee/CS6910_NLG/runs/nfv7gpcc' target=\"_blank\">https://wandb.ai/viswa_ee/CS6910_NLG/runs/nfv7gpcc</a>"
            ],
            "text/plain": [
              "<IPython.core.display.HTML object>"
            ]
          },
          "metadata": {},
          "output_type": "display_data"
        },
        {
          "data": {
            "text/html": [
              "Waiting for W&B process to finish... <strong style=\"color:green\">(success).</strong>"
            ],
            "text/plain": [
              "<IPython.core.display.HTML object>"
            ]
          },
          "metadata": {},
          "output_type": "display_data"
        },
        {
          "data": {
            "application/vnd.jupyter.widget-view+json": {
              "model_id": "1ed5dba1a2704dbbae463706990b640e",
              "version_major": 2,
              "version_minor": 0
            },
            "text/plain": [
              "VBox(children=(Label(value='0.009 MB of 0.009 MB uploaded (0.000 MB deduped)\\r'), FloatProgress(value=0.979942…"
            ]
          },
          "metadata": {},
          "output_type": "display_data"
        },
        {
          "data": {
            "text/html": [
              "<style>\n",
              "    table.wandb td:nth-child(1) { padding: 0 10px; text-align: left ; width: auto;} td:nth-child(2) {text-align: left ; width: 100%}\n",
              "    .wandb-row { display: flex; flex-direction: row; flex-wrap: wrap; justify-content: flex-start; width: 100% }\n",
              "    .wandb-col { display: flex; flex-direction: column; flex-basis: 100%; flex: 1; padding: 10px; }\n",
              "    </style>\n",
              "<div class=\"wandb-row\"><div class=\"wandb-col\"><h3>Run history:</h3><br/><table class=\"wandb\"><tr><td>acc</td><td>▁▁▂▇▇▆▇▆▆▆▆▇▆▇▇▇▆▆▆▆▆▇▇▇█▇▇▇▇▇▇▆█▇█▇▇▇█▇</td></tr><tr><td>loss</td><td>█▇██▇█▆▆▃▃▃▂▃▃▂▂▂▂▂▂▃▂▂▁▂▂▂▄▁▂▂▂▃▂▂▂▂▂▂▂</td></tr><tr><td>val_acc</td><td>▁▂█▇▇▇▇▇▇▇█████▇▇▇▇▇███▇█████▇▇▇▇▇▇▇▇███</td></tr></table><br/></div><div class=\"wandb-col\"><h3>Run summary:</h3><br/><table class=\"wandb\"><tr><td>acc</td><td>0.17402</td></tr><tr><td>loss</td><td>0.45116</td></tr><tr><td>val_acc</td><td>0.17441</td></tr></table><br/></div></div>"
            ],
            "text/plain": [
              "<IPython.core.display.HTML object>"
            ]
          },
          "metadata": {},
          "output_type": "display_data"
        },
        {
          "data": {
            "text/html": [
              " View run <strong style=\"color:#cdcd00\">astral-sweep-1</strong> at: <a href='https://wandb.ai/viswa_ee/CS6910_NLG/runs/nfv7gpcc' target=\"_blank\">https://wandb.ai/viswa_ee/CS6910_NLG/runs/nfv7gpcc</a><br/>Synced 4 W&B file(s), 0 media file(s), 0 artifact file(s) and 0 other file(s)"
            ],
            "text/plain": [
              "<IPython.core.display.HTML object>"
            ]
          },
          "metadata": {},
          "output_type": "display_data"
        },
        {
          "data": {
            "text/html": [
              "Find logs at: <code>./wandb/run-20230521_074037-nfv7gpcc/logs</code>"
            ],
            "text/plain": [
              "<IPython.core.display.HTML object>"
            ]
          },
          "metadata": {},
          "output_type": "display_data"
        },
        {
          "name": "stderr",
          "output_type": "stream",
          "text": [
            "\u001b[34m\u001b[1mwandb\u001b[0m: Agent Starting Run: jr534f1g with config:\n",
            "\u001b[34m\u001b[1mwandb\u001b[0m: \tbeam_width: 5\n",
            "\u001b[34m\u001b[1mwandb\u001b[0m: \tbidirectional: True\n",
            "\u001b[34m\u001b[1mwandb\u001b[0m: \tcell_type: lstm\n",
            "\u001b[34m\u001b[1mwandb\u001b[0m: \tdropout: 0.2\n",
            "\u001b[34m\u001b[1mwandb\u001b[0m: \tembedding_size: 256\n",
            "\u001b[34m\u001b[1mwandb\u001b[0m: \thidden_size: 16\n",
            "\u001b[34m\u001b[1mwandb\u001b[0m: \tn_layers: 1\n"
          ]
        },
        {
          "data": {
            "text/html": [
              "Tracking run with wandb version 0.15.3"
            ],
            "text/plain": [
              "<IPython.core.display.HTML object>"
            ]
          },
          "metadata": {},
          "output_type": "display_data"
        },
        {
          "data": {
            "text/html": [
              "Run data is saved locally in <code>/content/gdrive/MyDrive/Deep Learning CS6910/rnn_test/wandb/run-20230521_084549-jr534f1g</code>"
            ],
            "text/plain": [
              "<IPython.core.display.HTML object>"
            ]
          },
          "metadata": {},
          "output_type": "display_data"
        },
        {
          "data": {
            "text/html": [
              "Syncing run <strong><a href='https://wandb.ai/viswa_ee/CS6910_NLG/runs/jr534f1g' target=\"_blank\">treasured-sweep-2</a></strong> to <a href='https://wandb.ai/viswa_ee/CS6910_NLG' target=\"_blank\">Weights & Biases</a> (<a href='https://wandb.me/run' target=\"_blank\">docs</a>)<br/>Sweep page: <a href='https://wandb.ai/viswa_ee/CS6910_NLG/sweeps/hqtp9ouh' target=\"_blank\">https://wandb.ai/viswa_ee/CS6910_NLG/sweeps/hqtp9ouh</a>"
            ],
            "text/plain": [
              "<IPython.core.display.HTML object>"
            ]
          },
          "metadata": {},
          "output_type": "display_data"
        },
        {
          "data": {
            "text/html": [
              " View project at <a href='https://wandb.ai/viswa_ee/CS6910_NLG' target=\"_blank\">https://wandb.ai/viswa_ee/CS6910_NLG</a>"
            ],
            "text/plain": [
              "<IPython.core.display.HTML object>"
            ]
          },
          "metadata": {},
          "output_type": "display_data"
        },
        {
          "data": {
            "text/html": [
              " View sweep at <a href='https://wandb.ai/viswa_ee/CS6910_NLG/sweeps/hqtp9ouh' target=\"_blank\">https://wandb.ai/viswa_ee/CS6910_NLG/sweeps/hqtp9ouh</a>"
            ],
            "text/plain": [
              "<IPython.core.display.HTML object>"
            ]
          },
          "metadata": {},
          "output_type": "display_data"
        },
        {
          "data": {
            "text/html": [
              " View run at <a href='https://wandb.ai/viswa_ee/CS6910_NLG/runs/jr534f1g' target=\"_blank\">https://wandb.ai/viswa_ee/CS6910_NLG/runs/jr534f1g</a>"
            ],
            "text/plain": [
              "<IPython.core.display.HTML object>"
            ]
          },
          "metadata": {},
          "output_type": "display_data"
        },
        {
          "data": {
            "text/html": [
              "Waiting for W&B process to finish... <strong style=\"color:green\">(success).</strong>"
            ],
            "text/plain": [
              "<IPython.core.display.HTML object>"
            ]
          },
          "metadata": {},
          "output_type": "display_data"
        },
        {
          "data": {
            "application/vnd.jupyter.widget-view+json": {
              "model_id": "1a399ecdcf004197b2041d6cc28647a1",
              "version_major": 2,
              "version_minor": 0
            },
            "text/plain": [
              "VBox(children=(Label(value='0.009 MB of 0.009 MB uploaded (0.000 MB deduped)\\r'), FloatProgress(value=0.980146…"
            ]
          },
          "metadata": {},
          "output_type": "display_data"
        },
        {
          "data": {
            "text/html": [
              "<style>\n",
              "    table.wandb td:nth-child(1) { padding: 0 10px; text-align: left ; width: auto;} td:nth-child(2) {text-align: left ; width: 100%}\n",
              "    .wandb-row { display: flex; flex-direction: row; flex-wrap: wrap; justify-content: flex-start; width: 100% }\n",
              "    .wandb-col { display: flex; flex-direction: column; flex-basis: 100%; flex: 1; padding: 10px; }\n",
              "    </style>\n",
              "<div class=\"wandb-row\"><div class=\"wandb-col\"><h3>Run history:</h3><br/><table class=\"wandb\"><tr><td>acc</td><td>▃▁▂▂▂▂▃▂▃▃▃▃▂▂▂▃▃▃▄▇▇▇▆▆▆▆▆▆▇█▇▆█▇▆▆▆▆▆▇</td></tr><tr><td>loss</td><td>█▆▇▆█▆▇▅▆▇▇▆▄▃▃▂▂▂▂▂▁▁▂▂▂▂▂▁▂▂▁▂▁▁▁▃▂▃▂▁</td></tr><tr><td>val_acc</td><td>▁▁▁▁▁▁▁▁▁▁▁▁▁▁▁▁▃▃█▇▇▇▇▇▇▇▇▇█████▇▇▇▇▇██</td></tr></table><br/></div><div class=\"wandb-col\"><h3>Run summary:</h3><br/><table class=\"wandb\"><tr><td>acc</td><td>0.14784</td></tr><tr><td>loss</td><td>0.44076</td></tr><tr><td>val_acc</td><td>0.17605</td></tr></table><br/></div></div>"
            ],
            "text/plain": [
              "<IPython.core.display.HTML object>"
            ]
          },
          "metadata": {},
          "output_type": "display_data"
        },
        {
          "data": {
            "text/html": [
              " View run <strong style=\"color:#cdcd00\">treasured-sweep-2</strong> at: <a href='https://wandb.ai/viswa_ee/CS6910_NLG/runs/jr534f1g' target=\"_blank\">https://wandb.ai/viswa_ee/CS6910_NLG/runs/jr534f1g</a><br/>Synced 4 W&B file(s), 0 media file(s), 0 artifact file(s) and 0 other file(s)"
            ],
            "text/plain": [
              "<IPython.core.display.HTML object>"
            ]
          },
          "metadata": {},
          "output_type": "display_data"
        },
        {
          "data": {
            "text/html": [
              "Find logs at: <code>./wandb/run-20230521_084549-jr534f1g/logs</code>"
            ],
            "text/plain": [
              "<IPython.core.display.HTML object>"
            ]
          },
          "metadata": {},
          "output_type": "display_data"
        },
        {
          "name": "stderr",
          "output_type": "stream",
          "text": [
            "\u001b[34m\u001b[1mwandb\u001b[0m: Agent Starting Run: 2ie1obfs with config:\n",
            "\u001b[34m\u001b[1mwandb\u001b[0m: \tbeam_width: 5\n",
            "\u001b[34m\u001b[1mwandb\u001b[0m: \tbidirectional: False\n",
            "\u001b[34m\u001b[1mwandb\u001b[0m: \tcell_type: gru\n",
            "\u001b[34m\u001b[1mwandb\u001b[0m: \tdropout: 0.2\n",
            "\u001b[34m\u001b[1mwandb\u001b[0m: \tembedding_size: 32\n",
            "\u001b[34m\u001b[1mwandb\u001b[0m: \thidden_size: 32\n",
            "\u001b[34m\u001b[1mwandb\u001b[0m: \tn_layers: 3\n"
          ]
        },
        {
          "data": {
            "text/html": [
              "Tracking run with wandb version 0.15.3"
            ],
            "text/plain": [
              "<IPython.core.display.HTML object>"
            ]
          },
          "metadata": {},
          "output_type": "display_data"
        },
        {
          "data": {
            "text/html": [
              "Run data is saved locally in <code>/content/gdrive/MyDrive/Deep Learning CS6910/rnn_test/wandb/run-20230521_093448-2ie1obfs</code>"
            ],
            "text/plain": [
              "<IPython.core.display.HTML object>"
            ]
          },
          "metadata": {},
          "output_type": "display_data"
        },
        {
          "data": {
            "text/html": [
              "Syncing run <strong><a href='https://wandb.ai/viswa_ee/CS6910_NLG/runs/2ie1obfs' target=\"_blank\">cosmic-sweep-3</a></strong> to <a href='https://wandb.ai/viswa_ee/CS6910_NLG' target=\"_blank\">Weights & Biases</a> (<a href='https://wandb.me/run' target=\"_blank\">docs</a>)<br/>Sweep page: <a href='https://wandb.ai/viswa_ee/CS6910_NLG/sweeps/hqtp9ouh' target=\"_blank\">https://wandb.ai/viswa_ee/CS6910_NLG/sweeps/hqtp9ouh</a>"
            ],
            "text/plain": [
              "<IPython.core.display.HTML object>"
            ]
          },
          "metadata": {},
          "output_type": "display_data"
        },
        {
          "data": {
            "text/html": [
              " View project at <a href='https://wandb.ai/viswa_ee/CS6910_NLG' target=\"_blank\">https://wandb.ai/viswa_ee/CS6910_NLG</a>"
            ],
            "text/plain": [
              "<IPython.core.display.HTML object>"
            ]
          },
          "metadata": {},
          "output_type": "display_data"
        },
        {
          "data": {
            "text/html": [
              " View sweep at <a href='https://wandb.ai/viswa_ee/CS6910_NLG/sweeps/hqtp9ouh' target=\"_blank\">https://wandb.ai/viswa_ee/CS6910_NLG/sweeps/hqtp9ouh</a>"
            ],
            "text/plain": [
              "<IPython.core.display.HTML object>"
            ]
          },
          "metadata": {},
          "output_type": "display_data"
        },
        {
          "data": {
            "text/html": [
              " View run at <a href='https://wandb.ai/viswa_ee/CS6910_NLG/runs/2ie1obfs' target=\"_blank\">https://wandb.ai/viswa_ee/CS6910_NLG/runs/2ie1obfs</a>"
            ],
            "text/plain": [
              "<IPython.core.display.HTML object>"
            ]
          },
          "metadata": {},
          "output_type": "display_data"
        },
        {
          "data": {
            "text/html": [
              "Waiting for W&B process to finish... <strong style=\"color:green\">(success).</strong>"
            ],
            "text/plain": [
              "<IPython.core.display.HTML object>"
            ]
          },
          "metadata": {},
          "output_type": "display_data"
        },
        {
          "data": {
            "application/vnd.jupyter.widget-view+json": {
              "model_id": "55994c96db384dc392b0232c4f167a76",
              "version_major": 2,
              "version_minor": 0
            },
            "text/plain": [
              "VBox(children=(Label(value='0.009 MB of 0.009 MB uploaded (0.000 MB deduped)\\r'), FloatProgress(value=0.979942…"
            ]
          },
          "metadata": {},
          "output_type": "display_data"
        },
        {
          "data": {
            "text/html": [
              "<style>\n",
              "    table.wandb td:nth-child(1) { padding: 0 10px; text-align: left ; width: auto;} td:nth-child(2) {text-align: left ; width: 100%}\n",
              "    .wandb-row { display: flex; flex-direction: row; flex-wrap: wrap; justify-content: flex-start; width: 100% }\n",
              "    .wandb-col { display: flex; flex-direction: column; flex-basis: 100%; flex: 1; padding: 10px; }\n",
              "    </style>\n",
              "<div class=\"wandb-row\"><div class=\"wandb-col\"><h3>Run history:</h3><br/><table class=\"wandb\"><tr><td>acc</td><td>▁▂▅▄▆▇█▇▇▇▇█▇▆▇▆▇▇▇▇▇▇▇▇█▇█▇▇▇█▇▇▇▇▇▇▇▇▇</td></tr><tr><td>loss</td><td>█▇▇▇▆▆▅▅▄▄▂▂▃▃▂▂▂▂▂▂▂▂▂▂▂▁▂▂▂▁▂▁▃▂▂▁▂▂▂▂</td></tr><tr><td>val_acc</td><td>▁▄▄▄▇███████▇▇▇▇█▇▇▇▇▇▇▇█▇▇█▇▇▇▇▆▆▆▆▇▇▇▇</td></tr></table><br/></div><div class=\"wandb-col\"><h3>Run summary:</h3><br/><table class=\"wandb\"><tr><td>acc</td><td>0.14674</td></tr><tr><td>loss</td><td>0.4349</td></tr><tr><td>val_acc</td><td>0.16729</td></tr></table><br/></div></div>"
            ],
            "text/plain": [
              "<IPython.core.display.HTML object>"
            ]
          },
          "metadata": {},
          "output_type": "display_data"
        },
        {
          "data": {
            "text/html": [
              " View run <strong style=\"color:#cdcd00\">cosmic-sweep-3</strong> at: <a href='https://wandb.ai/viswa_ee/CS6910_NLG/runs/2ie1obfs' target=\"_blank\">https://wandb.ai/viswa_ee/CS6910_NLG/runs/2ie1obfs</a><br/>Synced 4 W&B file(s), 0 media file(s), 0 artifact file(s) and 0 other file(s)"
            ],
            "text/plain": [
              "<IPython.core.display.HTML object>"
            ]
          },
          "metadata": {},
          "output_type": "display_data"
        },
        {
          "data": {
            "text/html": [
              "Find logs at: <code>./wandb/run-20230521_093448-2ie1obfs/logs</code>"
            ],
            "text/plain": [
              "<IPython.core.display.HTML object>"
            ]
          },
          "metadata": {},
          "output_type": "display_data"
        },
        {
          "name": "stderr",
          "output_type": "stream",
          "text": [
            "\u001b[34m\u001b[1mwandb\u001b[0m: Agent Starting Run: ykmm1gd1 with config:\n",
            "\u001b[34m\u001b[1mwandb\u001b[0m: \tbeam_width: 5\n",
            "\u001b[34m\u001b[1mwandb\u001b[0m: \tbidirectional: True\n",
            "\u001b[34m\u001b[1mwandb\u001b[0m: \tcell_type: lstm\n",
            "\u001b[34m\u001b[1mwandb\u001b[0m: \tdropout: 0.2\n",
            "\u001b[34m\u001b[1mwandb\u001b[0m: \tembedding_size: 64\n",
            "\u001b[34m\u001b[1mwandb\u001b[0m: \thidden_size: 16\n",
            "\u001b[34m\u001b[1mwandb\u001b[0m: \tn_layers: 3\n"
          ]
        },
        {
          "data": {
            "text/html": [
              "Tracking run with wandb version 0.15.3"
            ],
            "text/plain": [
              "<IPython.core.display.HTML object>"
            ]
          },
          "metadata": {},
          "output_type": "display_data"
        },
        {
          "data": {
            "text/html": [
              "Run data is saved locally in <code>/content/gdrive/MyDrive/Deep Learning CS6910/rnn_test/wandb/run-20230521_103604-ykmm1gd1</code>"
            ],
            "text/plain": [
              "<IPython.core.display.HTML object>"
            ]
          },
          "metadata": {},
          "output_type": "display_data"
        },
        {
          "data": {
            "text/html": [
              "Syncing run <strong><a href='https://wandb.ai/viswa_ee/CS6910_NLG/runs/ykmm1gd1' target=\"_blank\">flowing-sweep-4</a></strong> to <a href='https://wandb.ai/viswa_ee/CS6910_NLG' target=\"_blank\">Weights & Biases</a> (<a href='https://wandb.me/run' target=\"_blank\">docs</a>)<br/>Sweep page: <a href='https://wandb.ai/viswa_ee/CS6910_NLG/sweeps/hqtp9ouh' target=\"_blank\">https://wandb.ai/viswa_ee/CS6910_NLG/sweeps/hqtp9ouh</a>"
            ],
            "text/plain": [
              "<IPython.core.display.HTML object>"
            ]
          },
          "metadata": {},
          "output_type": "display_data"
        },
        {
          "data": {
            "text/html": [
              " View project at <a href='https://wandb.ai/viswa_ee/CS6910_NLG' target=\"_blank\">https://wandb.ai/viswa_ee/CS6910_NLG</a>"
            ],
            "text/plain": [
              "<IPython.core.display.HTML object>"
            ]
          },
          "metadata": {},
          "output_type": "display_data"
        },
        {
          "data": {
            "text/html": [
              " View sweep at <a href='https://wandb.ai/viswa_ee/CS6910_NLG/sweeps/hqtp9ouh' target=\"_blank\">https://wandb.ai/viswa_ee/CS6910_NLG/sweeps/hqtp9ouh</a>"
            ],
            "text/plain": [
              "<IPython.core.display.HTML object>"
            ]
          },
          "metadata": {},
          "output_type": "display_data"
        },
        {
          "data": {
            "text/html": [
              " View run at <a href='https://wandb.ai/viswa_ee/CS6910_NLG/runs/ykmm1gd1' target=\"_blank\">https://wandb.ai/viswa_ee/CS6910_NLG/runs/ykmm1gd1</a>"
            ],
            "text/plain": [
              "<IPython.core.display.HTML object>"
            ]
          },
          "metadata": {},
          "output_type": "display_data"
        },
        {
          "data": {
            "text/html": [
              "Waiting for W&B process to finish... <strong style=\"color:green\">(success).</strong>"
            ],
            "text/plain": [
              "<IPython.core.display.HTML object>"
            ]
          },
          "metadata": {},
          "output_type": "display_data"
        },
        {
          "data": {
            "application/vnd.jupyter.widget-view+json": {
              "model_id": "2d86072be98045fba88897fc06a6d7be",
              "version_major": 2,
              "version_minor": 0
            },
            "text/plain": [
              "VBox(children=(Label(value='0.009 MB of 0.009 MB uploaded (0.000 MB deduped)\\r'), FloatProgress(value=0.979839…"
            ]
          },
          "metadata": {},
          "output_type": "display_data"
        },
        {
          "data": {
            "text/html": [
              "<style>\n",
              "    table.wandb td:nth-child(1) { padding: 0 10px; text-align: left ; width: auto;} td:nth-child(2) {text-align: left ; width: 100%}\n",
              "    .wandb-row { display: flex; flex-direction: row; flex-wrap: wrap; justify-content: flex-start; width: 100% }\n",
              "    .wandb-col { display: flex; flex-direction: column; flex-basis: 100%; flex: 1; padding: 10px; }\n",
              "    </style>\n",
              "<div class=\"wandb-row\"><div class=\"wandb-col\"><h3>Run history:</h3><br/><table class=\"wandb\"><tr><td>acc</td><td>▁▁▂▃▅▅▅▆█▇▇▇███▇▇██▇▇▇▇█▇███▇▇▇▇▇█▇▇▇▇▇█</td></tr><tr><td>loss</td><td>▇▇▆▇██▆▆▆▅▅▃▁▂▂▃▂▂▁▂▂▂▃▃▂▂▁▂▂▂▂▂▁▁▂▂▂▂▁▁</td></tr><tr><td>val_acc</td><td>▁▁▂▅▅▅▅█████████████████████████████████</td></tr></table><br/></div><div class=\"wandb-col\"><h3>Run summary:</h3><br/><table class=\"wandb\"><tr><td>acc</td><td>0.13755</td></tr><tr><td>loss</td><td>0.44386</td></tr><tr><td>val_acc</td><td>0.15457</td></tr></table><br/></div></div>"
            ],
            "text/plain": [
              "<IPython.core.display.HTML object>"
            ]
          },
          "metadata": {},
          "output_type": "display_data"
        },
        {
          "data": {
            "text/html": [
              " View run <strong style=\"color:#cdcd00\">flowing-sweep-4</strong> at: <a href='https://wandb.ai/viswa_ee/CS6910_NLG/runs/ykmm1gd1' target=\"_blank\">https://wandb.ai/viswa_ee/CS6910_NLG/runs/ykmm1gd1</a><br/>Synced 4 W&B file(s), 0 media file(s), 0 artifact file(s) and 0 other file(s)"
            ],
            "text/plain": [
              "<IPython.core.display.HTML object>"
            ]
          },
          "metadata": {},
          "output_type": "display_data"
        },
        {
          "data": {
            "text/html": [
              "Find logs at: <code>./wandb/run-20230521_103604-ykmm1gd1/logs</code>"
            ],
            "text/plain": [
              "<IPython.core.display.HTML object>"
            ]
          },
          "metadata": {},
          "output_type": "display_data"
        },
        {
          "name": "stderr",
          "output_type": "stream",
          "text": [
            "\u001b[34m\u001b[1mwandb\u001b[0m: Agent Starting Run: lt0n83m7 with config:\n",
            "\u001b[34m\u001b[1mwandb\u001b[0m: \tbeam_width: 3\n",
            "\u001b[34m\u001b[1mwandb\u001b[0m: \tbidirectional: False\n",
            "\u001b[34m\u001b[1mwandb\u001b[0m: \tcell_type: gru\n",
            "\u001b[34m\u001b[1mwandb\u001b[0m: \tdropout: 0.2\n",
            "\u001b[34m\u001b[1mwandb\u001b[0m: \tembedding_size: 128\n",
            "\u001b[34m\u001b[1mwandb\u001b[0m: \thidden_size: 64\n",
            "\u001b[34m\u001b[1mwandb\u001b[0m: \tn_layers: 1\n"
          ]
        },
        {
          "data": {
            "text/html": [
              "Tracking run with wandb version 0.15.3"
            ],
            "text/plain": [
              "<IPython.core.display.HTML object>"
            ]
          },
          "metadata": {},
          "output_type": "display_data"
        },
        {
          "data": {
            "text/html": [
              "Run data is saved locally in <code>/content/gdrive/MyDrive/Deep Learning CS6910/rnn_test/wandb/run-20230521_120914-lt0n83m7</code>"
            ],
            "text/plain": [
              "<IPython.core.display.HTML object>"
            ]
          },
          "metadata": {},
          "output_type": "display_data"
        },
        {
          "data": {
            "text/html": [
              "Syncing run <strong><a href='https://wandb.ai/viswa_ee/CS6910_NLG/runs/lt0n83m7' target=\"_blank\">fancy-sweep-5</a></strong> to <a href='https://wandb.ai/viswa_ee/CS6910_NLG' target=\"_blank\">Weights & Biases</a> (<a href='https://wandb.me/run' target=\"_blank\">docs</a>)<br/>Sweep page: <a href='https://wandb.ai/viswa_ee/CS6910_NLG/sweeps/hqtp9ouh' target=\"_blank\">https://wandb.ai/viswa_ee/CS6910_NLG/sweeps/hqtp9ouh</a>"
            ],
            "text/plain": [
              "<IPython.core.display.HTML object>"
            ]
          },
          "metadata": {},
          "output_type": "display_data"
        },
        {
          "data": {
            "text/html": [
              " View project at <a href='https://wandb.ai/viswa_ee/CS6910_NLG' target=\"_blank\">https://wandb.ai/viswa_ee/CS6910_NLG</a>"
            ],
            "text/plain": [
              "<IPython.core.display.HTML object>"
            ]
          },
          "metadata": {},
          "output_type": "display_data"
        },
        {
          "data": {
            "text/html": [
              " View sweep at <a href='https://wandb.ai/viswa_ee/CS6910_NLG/sweeps/hqtp9ouh' target=\"_blank\">https://wandb.ai/viswa_ee/CS6910_NLG/sweeps/hqtp9ouh</a>"
            ],
            "text/plain": [
              "<IPython.core.display.HTML object>"
            ]
          },
          "metadata": {},
          "output_type": "display_data"
        },
        {
          "data": {
            "text/html": [
              " View run at <a href='https://wandb.ai/viswa_ee/CS6910_NLG/runs/lt0n83m7' target=\"_blank\">https://wandb.ai/viswa_ee/CS6910_NLG/runs/lt0n83m7</a>"
            ],
            "text/plain": [
              "<IPython.core.display.HTML object>"
            ]
          },
          "metadata": {},
          "output_type": "display_data"
        },
        {
          "data": {
            "text/html": [
              "Waiting for W&B process to finish... <strong style=\"color:green\">(success).</strong>"
            ],
            "text/plain": [
              "<IPython.core.display.HTML object>"
            ]
          },
          "metadata": {},
          "output_type": "display_data"
        },
        {
          "data": {
            "text/html": [
              "<style>\n",
              "    table.wandb td:nth-child(1) { padding: 0 10px; text-align: left ; width: auto;} td:nth-child(2) {text-align: left ; width: 100%}\n",
              "    .wandb-row { display: flex; flex-direction: row; flex-wrap: wrap; justify-content: flex-start; width: 100% }\n",
              "    .wandb-col { display: flex; flex-direction: column; flex-basis: 100%; flex: 1; padding: 10px; }\n",
              "    </style>\n",
              "<div class=\"wandb-row\"><div class=\"wandb-col\"><h3>Run history:</h3><br/><table class=\"wandb\"><tr><td>acc</td><td>▁▄▆▅▅▄▃▃▃▃▄▄█▇▇▇▇█▇▇▆▅▆▆▇▇███▇█▇▆█▇▇▆▇▇▇</td></tr><tr><td>loss</td><td>█▇▇▅▆▄▄▄▄▃▂▂▁▂▂▂▂▂▂▂▂▂▂▁▁▂▁▂▂▂▁▁▂▂▃▁▂▂▂▂</td></tr><tr><td>val_acc</td><td>▁▄▄▄▂▂▂▂▂▃▃▇█████▇▇▅▄▅▆▇████▇▇▆▆▇▇▇▇▇▇▆▆</td></tr></table><br/></div><div class=\"wandb-col\"><h3>Run summary:</h3><br/><table class=\"wandb\"><tr><td>acc</td><td>0.16641</td></tr><tr><td>loss</td><td>0.48359</td></tr><tr><td>val_acc</td><td>0.15168</td></tr></table><br/></div></div>"
            ],
            "text/plain": [
              "<IPython.core.display.HTML object>"
            ]
          },
          "metadata": {},
          "output_type": "display_data"
        },
        {
          "data": {
            "text/html": [
              " View run <strong style=\"color:#cdcd00\">fancy-sweep-5</strong> at: <a href='https://wandb.ai/viswa_ee/CS6910_NLG/runs/lt0n83m7' target=\"_blank\">https://wandb.ai/viswa_ee/CS6910_NLG/runs/lt0n83m7</a><br/>Synced 4 W&B file(s), 0 media file(s), 0 artifact file(s) and 0 other file(s)"
            ],
            "text/plain": [
              "<IPython.core.display.HTML object>"
            ]
          },
          "metadata": {},
          "output_type": "display_data"
        },
        {
          "data": {
            "text/html": [
              "Find logs at: <code>./wandb/run-20230521_120914-lt0n83m7/logs</code>"
            ],
            "text/plain": [
              "<IPython.core.display.HTML object>"
            ]
          },
          "metadata": {},
          "output_type": "display_data"
        },
        {
          "name": "stderr",
          "output_type": "stream",
          "text": [
            "\u001b[34m\u001b[1mwandb\u001b[0m: Agent Starting Run: jnj9fzhb with config:\n",
            "\u001b[34m\u001b[1mwandb\u001b[0m: \tbeam_width: 5\n",
            "\u001b[34m\u001b[1mwandb\u001b[0m: \tbidirectional: False\n",
            "\u001b[34m\u001b[1mwandb\u001b[0m: \tcell_type: gru\n",
            "\u001b[34m\u001b[1mwandb\u001b[0m: \tdropout: 0.2\n",
            "\u001b[34m\u001b[1mwandb\u001b[0m: \tembedding_size: 16\n",
            "\u001b[34m\u001b[1mwandb\u001b[0m: \thidden_size: 64\n",
            "\u001b[34m\u001b[1mwandb\u001b[0m: \tn_layers: 3\n"
          ]
        },
        {
          "data": {
            "text/html": [
              "Tracking run with wandb version 0.15.3"
            ],
            "text/plain": [
              "<IPython.core.display.HTML object>"
            ]
          },
          "metadata": {},
          "output_type": "display_data"
        },
        {
          "data": {
            "text/html": [
              "Run data is saved locally in <code>/content/gdrive/MyDrive/Deep Learning CS6910/rnn_test/wandb/run-20230521_125123-jnj9fzhb</code>"
            ],
            "text/plain": [
              "<IPython.core.display.HTML object>"
            ]
          },
          "metadata": {},
          "output_type": "display_data"
        },
        {
          "data": {
            "text/html": [
              "Syncing run <strong><a href='https://wandb.ai/viswa_ee/CS6910_NLG/runs/jnj9fzhb' target=\"_blank\">giddy-sweep-6</a></strong> to <a href='https://wandb.ai/viswa_ee/CS6910_NLG' target=\"_blank\">Weights & Biases</a> (<a href='https://wandb.me/run' target=\"_blank\">docs</a>)<br/>Sweep page: <a href='https://wandb.ai/viswa_ee/CS6910_NLG/sweeps/hqtp9ouh' target=\"_blank\">https://wandb.ai/viswa_ee/CS6910_NLG/sweeps/hqtp9ouh</a>"
            ],
            "text/plain": [
              "<IPython.core.display.HTML object>"
            ]
          },
          "metadata": {},
          "output_type": "display_data"
        },
        {
          "data": {
            "text/html": [
              " View project at <a href='https://wandb.ai/viswa_ee/CS6910_NLG' target=\"_blank\">https://wandb.ai/viswa_ee/CS6910_NLG</a>"
            ],
            "text/plain": [
              "<IPython.core.display.HTML object>"
            ]
          },
          "metadata": {},
          "output_type": "display_data"
        },
        {
          "data": {
            "text/html": [
              " View sweep at <a href='https://wandb.ai/viswa_ee/CS6910_NLG/sweeps/hqtp9ouh' target=\"_blank\">https://wandb.ai/viswa_ee/CS6910_NLG/sweeps/hqtp9ouh</a>"
            ],
            "text/plain": [
              "<IPython.core.display.HTML object>"
            ]
          },
          "metadata": {},
          "output_type": "display_data"
        },
        {
          "data": {
            "text/html": [
              " View run at <a href='https://wandb.ai/viswa_ee/CS6910_NLG/runs/jnj9fzhb' target=\"_blank\">https://wandb.ai/viswa_ee/CS6910_NLG/runs/jnj9fzhb</a>"
            ],
            "text/plain": [
              "<IPython.core.display.HTML object>"
            ]
          },
          "metadata": {},
          "output_type": "display_data"
        }
      ],
      "source": [
        "wandb.agent(sweep_id,function=train,count=20)"
      ]
    },
    {
      "cell_type": "code",
      "execution_count": null,
      "metadata": {
        "id": "0iJCOa98PW5p"
      },
      "outputs": [],
      "source": []
    }
  ],
  "metadata": {
    "accelerator": "GPU",
    "colab": {
      "provenance": []
    },
    "gpuClass": "standard",
    "kernelspec": {
      "display_name": "Python 3",
      "name": "python3"
    },
    "language_info": {
      "name": "python"
    },
    "widgets": {
      "application/vnd.jupyter.widget-state+json": {
        "14644406cef340a99b0e41df528ab956": {
          "model_module": "@jupyter-widgets/base",
          "model_module_version": "1.2.0",
          "model_name": "LayoutModel",
          "state": {
            "_model_module": "@jupyter-widgets/base",
            "_model_module_version": "1.2.0",
            "_model_name": "LayoutModel",
            "_view_count": null,
            "_view_module": "@jupyter-widgets/base",
            "_view_module_version": "1.2.0",
            "_view_name": "LayoutView",
            "align_content": null,
            "align_items": null,
            "align_self": null,
            "border": null,
            "bottom": null,
            "display": null,
            "flex": null,
            "flex_flow": null,
            "grid_area": null,
            "grid_auto_columns": null,
            "grid_auto_flow": null,
            "grid_auto_rows": null,
            "grid_column": null,
            "grid_gap": null,
            "grid_row": null,
            "grid_template_areas": null,
            "grid_template_columns": null,
            "grid_template_rows": null,
            "height": null,
            "justify_content": null,
            "justify_items": null,
            "left": null,
            "margin": null,
            "max_height": null,
            "max_width": null,
            "min_height": null,
            "min_width": null,
            "object_fit": null,
            "object_position": null,
            "order": null,
            "overflow": null,
            "overflow_x": null,
            "overflow_y": null,
            "padding": null,
            "right": null,
            "top": null,
            "visibility": null,
            "width": null
          }
        },
        "15dff7d9c9544407ae287ce66fd375cd": {
          "model_module": "@jupyter-widgets/controls",
          "model_module_version": "1.5.0",
          "model_name": "ProgressStyleModel",
          "state": {
            "_model_module": "@jupyter-widgets/controls",
            "_model_module_version": "1.5.0",
            "_model_name": "ProgressStyleModel",
            "_view_count": null,
            "_view_module": "@jupyter-widgets/base",
            "_view_module_version": "1.2.0",
            "_view_name": "StyleView",
            "bar_color": null,
            "description_width": ""
          }
        },
        "1a399ecdcf004197b2041d6cc28647a1": {
          "model_module": "@jupyter-widgets/controls",
          "model_module_version": "1.5.0",
          "model_name": "VBoxModel",
          "state": {
            "_dom_classes": [],
            "_model_module": "@jupyter-widgets/controls",
            "_model_module_version": "1.5.0",
            "_model_name": "VBoxModel",
            "_view_count": null,
            "_view_module": "@jupyter-widgets/controls",
            "_view_module_version": "1.5.0",
            "_view_name": "VBoxView",
            "box_style": "",
            "children": [
              "IPY_MODEL_de2d65e993e0452e843ee4707e2151b6",
              "IPY_MODEL_ee2dfe6843b84150bfc54fcd265fe1b2"
            ],
            "layout": "IPY_MODEL_fe8bbb71d60b4ed1aed47e420c0a48bc"
          }
        },
        "1d18bf42ff08474a8075c1c4e48442d4": {
          "model_module": "@jupyter-widgets/controls",
          "model_module_version": "1.5.0",
          "model_name": "ProgressStyleModel",
          "state": {
            "_model_module": "@jupyter-widgets/controls",
            "_model_module_version": "1.5.0",
            "_model_name": "ProgressStyleModel",
            "_view_count": null,
            "_view_module": "@jupyter-widgets/base",
            "_view_module_version": "1.2.0",
            "_view_name": "StyleView",
            "bar_color": null,
            "description_width": ""
          }
        },
        "1ed5dba1a2704dbbae463706990b640e": {
          "model_module": "@jupyter-widgets/controls",
          "model_module_version": "1.5.0",
          "model_name": "VBoxModel",
          "state": {
            "_dom_classes": [],
            "_model_module": "@jupyter-widgets/controls",
            "_model_module_version": "1.5.0",
            "_model_name": "VBoxModel",
            "_view_count": null,
            "_view_module": "@jupyter-widgets/controls",
            "_view_module_version": "1.5.0",
            "_view_name": "VBoxView",
            "box_style": "",
            "children": [
              "IPY_MODEL_710378f5ef3f4770a03e0dbbd3f90676",
              "IPY_MODEL_6d0c980ca03d4c7385bed6a156debf45"
            ],
            "layout": "IPY_MODEL_4094509b73084576854a4b809c639fd0"
          }
        },
        "21b462714cfe4f9eb02e9f9be4c21b24": {
          "model_module": "@jupyter-widgets/base",
          "model_module_version": "1.2.0",
          "model_name": "LayoutModel",
          "state": {
            "_model_module": "@jupyter-widgets/base",
            "_model_module_version": "1.2.0",
            "_model_name": "LayoutModel",
            "_view_count": null,
            "_view_module": "@jupyter-widgets/base",
            "_view_module_version": "1.2.0",
            "_view_name": "LayoutView",
            "align_content": null,
            "align_items": null,
            "align_self": null,
            "border": null,
            "bottom": null,
            "display": null,
            "flex": null,
            "flex_flow": null,
            "grid_area": null,
            "grid_auto_columns": null,
            "grid_auto_flow": null,
            "grid_auto_rows": null,
            "grid_column": null,
            "grid_gap": null,
            "grid_row": null,
            "grid_template_areas": null,
            "grid_template_columns": null,
            "grid_template_rows": null,
            "height": null,
            "justify_content": null,
            "justify_items": null,
            "left": null,
            "margin": null,
            "max_height": null,
            "max_width": null,
            "min_height": null,
            "min_width": null,
            "object_fit": null,
            "object_position": null,
            "order": null,
            "overflow": null,
            "overflow_x": null,
            "overflow_y": null,
            "padding": null,
            "right": null,
            "top": null,
            "visibility": null,
            "width": null
          }
        },
        "2566bd37ff7c4eb4afe246591efe7ddb": {
          "model_module": "@jupyter-widgets/base",
          "model_module_version": "1.2.0",
          "model_name": "LayoutModel",
          "state": {
            "_model_module": "@jupyter-widgets/base",
            "_model_module_version": "1.2.0",
            "_model_name": "LayoutModel",
            "_view_count": null,
            "_view_module": "@jupyter-widgets/base",
            "_view_module_version": "1.2.0",
            "_view_name": "LayoutView",
            "align_content": null,
            "align_items": null,
            "align_self": null,
            "border": null,
            "bottom": null,
            "display": null,
            "flex": null,
            "flex_flow": null,
            "grid_area": null,
            "grid_auto_columns": null,
            "grid_auto_flow": null,
            "grid_auto_rows": null,
            "grid_column": null,
            "grid_gap": null,
            "grid_row": null,
            "grid_template_areas": null,
            "grid_template_columns": null,
            "grid_template_rows": null,
            "height": null,
            "justify_content": null,
            "justify_items": null,
            "left": null,
            "margin": null,
            "max_height": null,
            "max_width": null,
            "min_height": null,
            "min_width": null,
            "object_fit": null,
            "object_position": null,
            "order": null,
            "overflow": null,
            "overflow_x": null,
            "overflow_y": null,
            "padding": null,
            "right": null,
            "top": null,
            "visibility": null,
            "width": null
          }
        },
        "2d86072be98045fba88897fc06a6d7be": {
          "model_module": "@jupyter-widgets/controls",
          "model_module_version": "1.5.0",
          "model_name": "VBoxModel",
          "state": {
            "_dom_classes": [],
            "_model_module": "@jupyter-widgets/controls",
            "_model_module_version": "1.5.0",
            "_model_name": "VBoxModel",
            "_view_count": null,
            "_view_module": "@jupyter-widgets/controls",
            "_view_module_version": "1.5.0",
            "_view_name": "VBoxView",
            "box_style": "",
            "children": [
              "IPY_MODEL_4ea4299b40ab4f42afa643b84394e359",
              "IPY_MODEL_c076878e9972409ca8640e682f76802c"
            ],
            "layout": "IPY_MODEL_c0c791c474f341a6a76bc7c6682b22be"
          }
        },
        "382ac8f0464c4428a4affe15079d28a0": {
          "model_module": "@jupyter-widgets/controls",
          "model_module_version": "1.5.0",
          "model_name": "DescriptionStyleModel",
          "state": {
            "_model_module": "@jupyter-widgets/controls",
            "_model_module_version": "1.5.0",
            "_model_name": "DescriptionStyleModel",
            "_view_count": null,
            "_view_module": "@jupyter-widgets/base",
            "_view_module_version": "1.2.0",
            "_view_name": "StyleView",
            "description_width": ""
          }
        },
        "3cfa9ea9047d4402a9c5b359a58a53f4": {
          "model_module": "@jupyter-widgets/base",
          "model_module_version": "1.2.0",
          "model_name": "LayoutModel",
          "state": {
            "_model_module": "@jupyter-widgets/base",
            "_model_module_version": "1.2.0",
            "_model_name": "LayoutModel",
            "_view_count": null,
            "_view_module": "@jupyter-widgets/base",
            "_view_module_version": "1.2.0",
            "_view_name": "LayoutView",
            "align_content": null,
            "align_items": null,
            "align_self": null,
            "border": null,
            "bottom": null,
            "display": null,
            "flex": null,
            "flex_flow": null,
            "grid_area": null,
            "grid_auto_columns": null,
            "grid_auto_flow": null,
            "grid_auto_rows": null,
            "grid_column": null,
            "grid_gap": null,
            "grid_row": null,
            "grid_template_areas": null,
            "grid_template_columns": null,
            "grid_template_rows": null,
            "height": null,
            "justify_content": null,
            "justify_items": null,
            "left": null,
            "margin": null,
            "max_height": null,
            "max_width": null,
            "min_height": null,
            "min_width": null,
            "object_fit": null,
            "object_position": null,
            "order": null,
            "overflow": null,
            "overflow_x": null,
            "overflow_y": null,
            "padding": null,
            "right": null,
            "top": null,
            "visibility": null,
            "width": null
          }
        },
        "4094509b73084576854a4b809c639fd0": {
          "model_module": "@jupyter-widgets/base",
          "model_module_version": "1.2.0",
          "model_name": "LayoutModel",
          "state": {
            "_model_module": "@jupyter-widgets/base",
            "_model_module_version": "1.2.0",
            "_model_name": "LayoutModel",
            "_view_count": null,
            "_view_module": "@jupyter-widgets/base",
            "_view_module_version": "1.2.0",
            "_view_name": "LayoutView",
            "align_content": null,
            "align_items": null,
            "align_self": null,
            "border": null,
            "bottom": null,
            "display": null,
            "flex": null,
            "flex_flow": null,
            "grid_area": null,
            "grid_auto_columns": null,
            "grid_auto_flow": null,
            "grid_auto_rows": null,
            "grid_column": null,
            "grid_gap": null,
            "grid_row": null,
            "grid_template_areas": null,
            "grid_template_columns": null,
            "grid_template_rows": null,
            "height": null,
            "justify_content": null,
            "justify_items": null,
            "left": null,
            "margin": null,
            "max_height": null,
            "max_width": null,
            "min_height": null,
            "min_width": null,
            "object_fit": null,
            "object_position": null,
            "order": null,
            "overflow": null,
            "overflow_x": null,
            "overflow_y": null,
            "padding": null,
            "right": null,
            "top": null,
            "visibility": null,
            "width": null
          }
        },
        "4a64ee1af9b54339b7d6a7927148fcf0": {
          "model_module": "@jupyter-widgets/controls",
          "model_module_version": "1.5.0",
          "model_name": "FloatProgressModel",
          "state": {
            "_dom_classes": [],
            "_model_module": "@jupyter-widgets/controls",
            "_model_module_version": "1.5.0",
            "_model_name": "FloatProgressModel",
            "_view_count": null,
            "_view_module": "@jupyter-widgets/controls",
            "_view_module_version": "1.5.0",
            "_view_name": "ProgressView",
            "bar_style": "",
            "description": "",
            "description_tooltip": null,
            "layout": "IPY_MODEL_3cfa9ea9047d4402a9c5b359a58a53f4",
            "max": 1,
            "min": 0,
            "orientation": "horizontal",
            "style": "IPY_MODEL_1d18bf42ff08474a8075c1c4e48442d4",
            "value": 1
          }
        },
        "4ea4299b40ab4f42afa643b84394e359": {
          "model_module": "@jupyter-widgets/controls",
          "model_module_version": "1.5.0",
          "model_name": "LabelModel",
          "state": {
            "_dom_classes": [],
            "_model_module": "@jupyter-widgets/controls",
            "_model_module_version": "1.5.0",
            "_model_name": "LabelModel",
            "_view_count": null,
            "_view_module": "@jupyter-widgets/controls",
            "_view_module_version": "1.5.0",
            "_view_name": "LabelView",
            "description": "",
            "description_tooltip": null,
            "layout": "IPY_MODEL_ff631547870c487b8afe0322a04f9143",
            "placeholder": "​",
            "style": "IPY_MODEL_fb220c7abb4a4ceab8463b04e96c42e6",
            "value": "0.009 MB of 0.009 MB uploaded (0.000 MB deduped)\r"
          }
        },
        "50d5f84ff12d4b05b84ee6fe490d559e": {
          "model_module": "@jupyter-widgets/controls",
          "model_module_version": "1.5.0",
          "model_name": "ProgressStyleModel",
          "state": {
            "_model_module": "@jupyter-widgets/controls",
            "_model_module_version": "1.5.0",
            "_model_name": "ProgressStyleModel",
            "_view_count": null,
            "_view_module": "@jupyter-widgets/base",
            "_view_module_version": "1.2.0",
            "_view_name": "StyleView",
            "bar_color": null,
            "description_width": ""
          }
        },
        "55994c96db384dc392b0232c4f167a76": {
          "model_module": "@jupyter-widgets/controls",
          "model_module_version": "1.5.0",
          "model_name": "VBoxModel",
          "state": {
            "_dom_classes": [],
            "_model_module": "@jupyter-widgets/controls",
            "_model_module_version": "1.5.0",
            "_model_name": "VBoxModel",
            "_view_count": null,
            "_view_module": "@jupyter-widgets/controls",
            "_view_module_version": "1.5.0",
            "_view_name": "VBoxView",
            "box_style": "",
            "children": [
              "IPY_MODEL_c6f425a42f5c4f73811808d03190375b",
              "IPY_MODEL_4a64ee1af9b54339b7d6a7927148fcf0"
            ],
            "layout": "IPY_MODEL_6c6bebaac1414364a397ecf6fd210174"
          }
        },
        "66e0781e5984439aa37c99136b9cf28e": {
          "model_module": "@jupyter-widgets/base",
          "model_module_version": "1.2.0",
          "model_name": "LayoutModel",
          "state": {
            "_model_module": "@jupyter-widgets/base",
            "_model_module_version": "1.2.0",
            "_model_name": "LayoutModel",
            "_view_count": null,
            "_view_module": "@jupyter-widgets/base",
            "_view_module_version": "1.2.0",
            "_view_name": "LayoutView",
            "align_content": null,
            "align_items": null,
            "align_self": null,
            "border": null,
            "bottom": null,
            "display": null,
            "flex": null,
            "flex_flow": null,
            "grid_area": null,
            "grid_auto_columns": null,
            "grid_auto_flow": null,
            "grid_auto_rows": null,
            "grid_column": null,
            "grid_gap": null,
            "grid_row": null,
            "grid_template_areas": null,
            "grid_template_columns": null,
            "grid_template_rows": null,
            "height": null,
            "justify_content": null,
            "justify_items": null,
            "left": null,
            "margin": null,
            "max_height": null,
            "max_width": null,
            "min_height": null,
            "min_width": null,
            "object_fit": null,
            "object_position": null,
            "order": null,
            "overflow": null,
            "overflow_x": null,
            "overflow_y": null,
            "padding": null,
            "right": null,
            "top": null,
            "visibility": null,
            "width": null
          }
        },
        "6c6bebaac1414364a397ecf6fd210174": {
          "model_module": "@jupyter-widgets/base",
          "model_module_version": "1.2.0",
          "model_name": "LayoutModel",
          "state": {
            "_model_module": "@jupyter-widgets/base",
            "_model_module_version": "1.2.0",
            "_model_name": "LayoutModel",
            "_view_count": null,
            "_view_module": "@jupyter-widgets/base",
            "_view_module_version": "1.2.0",
            "_view_name": "LayoutView",
            "align_content": null,
            "align_items": null,
            "align_self": null,
            "border": null,
            "bottom": null,
            "display": null,
            "flex": null,
            "flex_flow": null,
            "grid_area": null,
            "grid_auto_columns": null,
            "grid_auto_flow": null,
            "grid_auto_rows": null,
            "grid_column": null,
            "grid_gap": null,
            "grid_row": null,
            "grid_template_areas": null,
            "grid_template_columns": null,
            "grid_template_rows": null,
            "height": null,
            "justify_content": null,
            "justify_items": null,
            "left": null,
            "margin": null,
            "max_height": null,
            "max_width": null,
            "min_height": null,
            "min_width": null,
            "object_fit": null,
            "object_position": null,
            "order": null,
            "overflow": null,
            "overflow_x": null,
            "overflow_y": null,
            "padding": null,
            "right": null,
            "top": null,
            "visibility": null,
            "width": null
          }
        },
        "6d0c980ca03d4c7385bed6a156debf45": {
          "model_module": "@jupyter-widgets/controls",
          "model_module_version": "1.5.0",
          "model_name": "FloatProgressModel",
          "state": {
            "_dom_classes": [],
            "_model_module": "@jupyter-widgets/controls",
            "_model_module_version": "1.5.0",
            "_model_name": "FloatProgressModel",
            "_view_count": null,
            "_view_module": "@jupyter-widgets/controls",
            "_view_module_version": "1.5.0",
            "_view_name": "ProgressView",
            "bar_style": "",
            "description": "",
            "description_tooltip": null,
            "layout": "IPY_MODEL_66e0781e5984439aa37c99136b9cf28e",
            "max": 1,
            "min": 0,
            "orientation": "horizontal",
            "style": "IPY_MODEL_50d5f84ff12d4b05b84ee6fe490d559e",
            "value": 0.9799423986833985
          }
        },
        "710378f5ef3f4770a03e0dbbd3f90676": {
          "model_module": "@jupyter-widgets/controls",
          "model_module_version": "1.5.0",
          "model_name": "LabelModel",
          "state": {
            "_dom_classes": [],
            "_model_module": "@jupyter-widgets/controls",
            "_model_module_version": "1.5.0",
            "_model_name": "LabelModel",
            "_view_count": null,
            "_view_module": "@jupyter-widgets/controls",
            "_view_module_version": "1.5.0",
            "_view_name": "LabelView",
            "description": "",
            "description_tooltip": null,
            "layout": "IPY_MODEL_fae2c3f749b9405494ebe84e8dbbe242",
            "placeholder": "​",
            "style": "IPY_MODEL_382ac8f0464c4428a4affe15079d28a0",
            "value": "0.009 MB of 0.009 MB uploaded (0.000 MB deduped)\r"
          }
        },
        "8fb94a20c7aa4d20b53a28e67102dbb2": {
          "model_module": "@jupyter-widgets/controls",
          "model_module_version": "1.5.0",
          "model_name": "DescriptionStyleModel",
          "state": {
            "_model_module": "@jupyter-widgets/controls",
            "_model_module_version": "1.5.0",
            "_model_name": "DescriptionStyleModel",
            "_view_count": null,
            "_view_module": "@jupyter-widgets/base",
            "_view_module_version": "1.2.0",
            "_view_name": "StyleView",
            "description_width": ""
          }
        },
        "93e012c4d5594206bee637d9a90d399a": {
          "model_module": "@jupyter-widgets/controls",
          "model_module_version": "1.5.0",
          "model_name": "DescriptionStyleModel",
          "state": {
            "_model_module": "@jupyter-widgets/controls",
            "_model_module_version": "1.5.0",
            "_model_name": "DescriptionStyleModel",
            "_view_count": null,
            "_view_module": "@jupyter-widgets/base",
            "_view_module_version": "1.2.0",
            "_view_name": "StyleView",
            "description_width": ""
          }
        },
        "9712ce9174494aa19af352353ed3c5b7": {
          "model_module": "@jupyter-widgets/controls",
          "model_module_version": "1.5.0",
          "model_name": "ProgressStyleModel",
          "state": {
            "_model_module": "@jupyter-widgets/controls",
            "_model_module_version": "1.5.0",
            "_model_name": "ProgressStyleModel",
            "_view_count": null,
            "_view_module": "@jupyter-widgets/base",
            "_view_module_version": "1.2.0",
            "_view_name": "StyleView",
            "bar_color": null,
            "description_width": ""
          }
        },
        "c076878e9972409ca8640e682f76802c": {
          "model_module": "@jupyter-widgets/controls",
          "model_module_version": "1.5.0",
          "model_name": "FloatProgressModel",
          "state": {
            "_dom_classes": [],
            "_model_module": "@jupyter-widgets/controls",
            "_model_module_version": "1.5.0",
            "_model_name": "FloatProgressModel",
            "_view_count": null,
            "_view_module": "@jupyter-widgets/controls",
            "_view_module_version": "1.5.0",
            "_view_name": "ProgressView",
            "bar_style": "",
            "description": "",
            "description_tooltip": null,
            "layout": "IPY_MODEL_ed22dd23b5224378a248c5f089df0bda",
            "max": 1,
            "min": 0,
            "orientation": "horizontal",
            "style": "IPY_MODEL_9712ce9174494aa19af352353ed3c5b7",
            "value": 0.9798395391894672
          }
        },
        "c0c791c474f341a6a76bc7c6682b22be": {
          "model_module": "@jupyter-widgets/base",
          "model_module_version": "1.2.0",
          "model_name": "LayoutModel",
          "state": {
            "_model_module": "@jupyter-widgets/base",
            "_model_module_version": "1.2.0",
            "_model_name": "LayoutModel",
            "_view_count": null,
            "_view_module": "@jupyter-widgets/base",
            "_view_module_version": "1.2.0",
            "_view_name": "LayoutView",
            "align_content": null,
            "align_items": null,
            "align_self": null,
            "border": null,
            "bottom": null,
            "display": null,
            "flex": null,
            "flex_flow": null,
            "grid_area": null,
            "grid_auto_columns": null,
            "grid_auto_flow": null,
            "grid_auto_rows": null,
            "grid_column": null,
            "grid_gap": null,
            "grid_row": null,
            "grid_template_areas": null,
            "grid_template_columns": null,
            "grid_template_rows": null,
            "height": null,
            "justify_content": null,
            "justify_items": null,
            "left": null,
            "margin": null,
            "max_height": null,
            "max_width": null,
            "min_height": null,
            "min_width": null,
            "object_fit": null,
            "object_position": null,
            "order": null,
            "overflow": null,
            "overflow_x": null,
            "overflow_y": null,
            "padding": null,
            "right": null,
            "top": null,
            "visibility": null,
            "width": null
          }
        },
        "c6f425a42f5c4f73811808d03190375b": {
          "model_module": "@jupyter-widgets/controls",
          "model_module_version": "1.5.0",
          "model_name": "LabelModel",
          "state": {
            "_dom_classes": [],
            "_model_module": "@jupyter-widgets/controls",
            "_model_module_version": "1.5.0",
            "_model_name": "LabelModel",
            "_view_count": null,
            "_view_module": "@jupyter-widgets/controls",
            "_view_module_version": "1.5.0",
            "_view_name": "LabelView",
            "description": "",
            "description_tooltip": null,
            "layout": "IPY_MODEL_2566bd37ff7c4eb4afe246591efe7ddb",
            "placeholder": "​",
            "style": "IPY_MODEL_8fb94a20c7aa4d20b53a28e67102dbb2",
            "value": "0.009 MB of 0.009 MB uploaded (0.000 MB deduped)\r"
          }
        },
        "de2d65e993e0452e843ee4707e2151b6": {
          "model_module": "@jupyter-widgets/controls",
          "model_module_version": "1.5.0",
          "model_name": "LabelModel",
          "state": {
            "_dom_classes": [],
            "_model_module": "@jupyter-widgets/controls",
            "_model_module_version": "1.5.0",
            "_model_name": "LabelModel",
            "_view_count": null,
            "_view_module": "@jupyter-widgets/controls",
            "_view_module_version": "1.5.0",
            "_view_name": "LabelView",
            "description": "",
            "description_tooltip": null,
            "layout": "IPY_MODEL_14644406cef340a99b0e41df528ab956",
            "placeholder": "​",
            "style": "IPY_MODEL_93e012c4d5594206bee637d9a90d399a",
            "value": "0.009 MB of 0.009 MB uploaded (0.000 MB deduped)\r"
          }
        },
        "ed22dd23b5224378a248c5f089df0bda": {
          "model_module": "@jupyter-widgets/base",
          "model_module_version": "1.2.0",
          "model_name": "LayoutModel",
          "state": {
            "_model_module": "@jupyter-widgets/base",
            "_model_module_version": "1.2.0",
            "_model_name": "LayoutModel",
            "_view_count": null,
            "_view_module": "@jupyter-widgets/base",
            "_view_module_version": "1.2.0",
            "_view_name": "LayoutView",
            "align_content": null,
            "align_items": null,
            "align_self": null,
            "border": null,
            "bottom": null,
            "display": null,
            "flex": null,
            "flex_flow": null,
            "grid_area": null,
            "grid_auto_columns": null,
            "grid_auto_flow": null,
            "grid_auto_rows": null,
            "grid_column": null,
            "grid_gap": null,
            "grid_row": null,
            "grid_template_areas": null,
            "grid_template_columns": null,
            "grid_template_rows": null,
            "height": null,
            "justify_content": null,
            "justify_items": null,
            "left": null,
            "margin": null,
            "max_height": null,
            "max_width": null,
            "min_height": null,
            "min_width": null,
            "object_fit": null,
            "object_position": null,
            "order": null,
            "overflow": null,
            "overflow_x": null,
            "overflow_y": null,
            "padding": null,
            "right": null,
            "top": null,
            "visibility": null,
            "width": null
          }
        },
        "ee2dfe6843b84150bfc54fcd265fe1b2": {
          "model_module": "@jupyter-widgets/controls",
          "model_module_version": "1.5.0",
          "model_name": "FloatProgressModel",
          "state": {
            "_dom_classes": [],
            "_model_module": "@jupyter-widgets/controls",
            "_model_module_version": "1.5.0",
            "_model_name": "FloatProgressModel",
            "_view_count": null,
            "_view_module": "@jupyter-widgets/controls",
            "_view_module_version": "1.5.0",
            "_view_name": "ProgressView",
            "bar_style": "",
            "description": "",
            "description_tooltip": null,
            "layout": "IPY_MODEL_21b462714cfe4f9eb02e9f9be4c21b24",
            "max": 1,
            "min": 0,
            "orientation": "horizontal",
            "style": "IPY_MODEL_15dff7d9c9544407ae287ce66fd375cd",
            "value": 0.9801460755066351
          }
        },
        "fae2c3f749b9405494ebe84e8dbbe242": {
          "model_module": "@jupyter-widgets/base",
          "model_module_version": "1.2.0",
          "model_name": "LayoutModel",
          "state": {
            "_model_module": "@jupyter-widgets/base",
            "_model_module_version": "1.2.0",
            "_model_name": "LayoutModel",
            "_view_count": null,
            "_view_module": "@jupyter-widgets/base",
            "_view_module_version": "1.2.0",
            "_view_name": "LayoutView",
            "align_content": null,
            "align_items": null,
            "align_self": null,
            "border": null,
            "bottom": null,
            "display": null,
            "flex": null,
            "flex_flow": null,
            "grid_area": null,
            "grid_auto_columns": null,
            "grid_auto_flow": null,
            "grid_auto_rows": null,
            "grid_column": null,
            "grid_gap": null,
            "grid_row": null,
            "grid_template_areas": null,
            "grid_template_columns": null,
            "grid_template_rows": null,
            "height": null,
            "justify_content": null,
            "justify_items": null,
            "left": null,
            "margin": null,
            "max_height": null,
            "max_width": null,
            "min_height": null,
            "min_width": null,
            "object_fit": null,
            "object_position": null,
            "order": null,
            "overflow": null,
            "overflow_x": null,
            "overflow_y": null,
            "padding": null,
            "right": null,
            "top": null,
            "visibility": null,
            "width": null
          }
        },
        "fb220c7abb4a4ceab8463b04e96c42e6": {
          "model_module": "@jupyter-widgets/controls",
          "model_module_version": "1.5.0",
          "model_name": "DescriptionStyleModel",
          "state": {
            "_model_module": "@jupyter-widgets/controls",
            "_model_module_version": "1.5.0",
            "_model_name": "DescriptionStyleModel",
            "_view_count": null,
            "_view_module": "@jupyter-widgets/base",
            "_view_module_version": "1.2.0",
            "_view_name": "StyleView",
            "description_width": ""
          }
        },
        "fe8bbb71d60b4ed1aed47e420c0a48bc": {
          "model_module": "@jupyter-widgets/base",
          "model_module_version": "1.2.0",
          "model_name": "LayoutModel",
          "state": {
            "_model_module": "@jupyter-widgets/base",
            "_model_module_version": "1.2.0",
            "_model_name": "LayoutModel",
            "_view_count": null,
            "_view_module": "@jupyter-widgets/base",
            "_view_module_version": "1.2.0",
            "_view_name": "LayoutView",
            "align_content": null,
            "align_items": null,
            "align_self": null,
            "border": null,
            "bottom": null,
            "display": null,
            "flex": null,
            "flex_flow": null,
            "grid_area": null,
            "grid_auto_columns": null,
            "grid_auto_flow": null,
            "grid_auto_rows": null,
            "grid_column": null,
            "grid_gap": null,
            "grid_row": null,
            "grid_template_areas": null,
            "grid_template_columns": null,
            "grid_template_rows": null,
            "height": null,
            "justify_content": null,
            "justify_items": null,
            "left": null,
            "margin": null,
            "max_height": null,
            "max_width": null,
            "min_height": null,
            "min_width": null,
            "object_fit": null,
            "object_position": null,
            "order": null,
            "overflow": null,
            "overflow_x": null,
            "overflow_y": null,
            "padding": null,
            "right": null,
            "top": null,
            "visibility": null,
            "width": null
          }
        },
        "ff631547870c487b8afe0322a04f9143": {
          "model_module": "@jupyter-widgets/base",
          "model_module_version": "1.2.0",
          "model_name": "LayoutModel",
          "state": {
            "_model_module": "@jupyter-widgets/base",
            "_model_module_version": "1.2.0",
            "_model_name": "LayoutModel",
            "_view_count": null,
            "_view_module": "@jupyter-widgets/base",
            "_view_module_version": "1.2.0",
            "_view_name": "LayoutView",
            "align_content": null,
            "align_items": null,
            "align_self": null,
            "border": null,
            "bottom": null,
            "display": null,
            "flex": null,
            "flex_flow": null,
            "grid_area": null,
            "grid_auto_columns": null,
            "grid_auto_flow": null,
            "grid_auto_rows": null,
            "grid_column": null,
            "grid_gap": null,
            "grid_row": null,
            "grid_template_areas": null,
            "grid_template_columns": null,
            "grid_template_rows": null,
            "height": null,
            "justify_content": null,
            "justify_items": null,
            "left": null,
            "margin": null,
            "max_height": null,
            "max_width": null,
            "min_height": null,
            "min_width": null,
            "object_fit": null,
            "object_position": null,
            "order": null,
            "overflow": null,
            "overflow_x": null,
            "overflow_y": null,
            "padding": null,
            "right": null,
            "top": null,
            "visibility": null,
            "width": null
          }
        }
      }
    }
  },
  "nbformat": 4,
  "nbformat_minor": 0
}